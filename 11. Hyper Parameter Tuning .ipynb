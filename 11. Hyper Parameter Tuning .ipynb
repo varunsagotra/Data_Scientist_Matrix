{
 "cells": [
  {
   "cell_type": "markdown",
   "metadata": {},
   "source": [
    "## Hyper Parameter Tuning Techniques ::"
   ]
  },
  {
   "cell_type": "markdown",
   "metadata": {},
   "source": [
    "> The process of choosing the optimal parameters is called Hyper parameter tuning :: \n",
    "* Used to increase the accuracy of the model"
   ]
  },
  {
   "cell_type": "markdown",
   "metadata": {},
   "source": [
    "### SVM - Support vector Machine Algorithm :: parameters"
   ]
  },
  {
   "cell_type": "raw",
   "metadata": {},
   "source": [
    "### SVM - Support vector Machine Algorithm :: parameters\n",
    "Svn.SVC(Kernel = ‘ ‘ , C =  , gamma = ‘ ‘)        \n",
    "# USE :: K-fold Cross validation\n",
    "# cross_val_score\n",
    "from sklearn.model_selection import cross_val_score\n",
    "cross_val_score(svm.SVC(Kernel = ‘ ‘ , C =  , gamma = ‘ ‘), iris.data, iris.target, cv = 5 \n",
    "                \n",
    "1. Kernel = ‘ linear‘ , C = 10 , gamma = ‘auto ‘\n",
    "2. Kernel = ‘rbf ‘ , C = 10 , gamma = ‘auto ‘\n",
    "3. Kernel = ‘rbf ‘ , C = 20 , gamma = ‘auto ‘\n",
    "                \n",
    "                \n",
    "# USE for loop ::\n",
    "Kernels = [ ‘rbf’,’linear’]\n",
    "C = [10,20,30]\n",
    "Avg_scores = { }\n",
    "for Kval in Kernels:\n",
    "     For cval in C:\n",
    "             cv_scores = cross_val_score(svm.SVC(Kernel = Kval , C = cval , gamma = ‘ auto’), iris.data, iris.target, cv = 5\n",
    "Avg_scores[ Kval + ‘_’ + str(cval) ]= np.average(cv_scores)\n",
    "\n",
    "Avg_scores                "
   ]
  },
  {
   "cell_type": "markdown",
   "metadata": {},
   "source": [
    "### Use for Classification problems :: >>> Use GridSearchCV  instead of cross_val_score"
   ]
  },
  {
   "cell_type": "raw",
   "metadata": {},
   "source": [
    "### Use for Classification problems :: >>>\n",
    "\n",
    "# Use GridSearchCV  instead of cross_val_score ::\n",
    "\n",
    "from sklearn.model_selection import GridSearchCV\n",
    "#To reduce  computation cost as there may be millions of permutation combinations  \n",
    "# to validate we use  “ RandomizedSearchCV “\n",
    "\n",
    "GSCV = GridSearchCV( svm.SVC(gamma=‘auto’), {\n",
    "    ‘C’ : [10,20,30]\n",
    "   ‘Kernel’ : [ ‘rbf’, ‘linear’]\n",
    "}, cv=5, return_train_score = False )\n",
    "\n",
    "GSCV.fit(iris.data,iris.target)\n",
    "GSCV.cv_results_\n",
    "df = pd.DataFrame(GSCV.cv_results_)\n",
    "df[ [ ‘param_c’,’param_kernel’,’mean_test_score’] ]\n",
    "\n",
    "\n",
    "#dir(GSCV) — Options to view all functions GridSearchCV supports ::\n",
    "\n",
    "GSCV.best_score_\n",
    "GSCV.best_params_\n"
   ]
  },
  {
   "cell_type": "markdown",
   "metadata": {},
   "source": [
    "### Use for Classification problems :: \n",
    "### RandomizedSearchCV is a better technique than #GridSearchCV"
   ]
  },
  {
   "cell_type": "raw",
   "metadata": {},
   "source": [
    "# Use for Classification problems ::\n",
    "\n",
    "# RandomizedSearchCV is a better technique than GridSearchCV\n",
    "\n",
    "#RandomizedSearchCV \n",
    "from sklearn.model_selection import RandomizedSearchCV\n",
    "RCV = RandomizedSearchCV( svm.SVC(gamma=‘auto’), {\n",
    "    ‘C’ : [10,20,30]\n",
    "   ‘Kernel’ : [ ‘rbf’, ‘linear’]\n",
    "}, cv=5, return_train_score = False , n_iter = 2 )\n",
    "\n",
    "RCV.fit(iris.data,iris.target)\n",
    "RCV.cv_results_\n",
    "df = pd.DataFrame(RCV.cv_results_)\n",
    "df[ [ ‘param_c’,’param_kernel’,’mean_test_score’] ]\n",
    "\n",
    "# Kernel = ‘Linear’ >>>>>>>>> For Linear dataset\n",
    "# Kernel = ‘rbf’ >>>>>>>>> For Non-Linear dataset\n",
    "# C - penalty parameter\n",
    "# If in Kernel ‘rbf’ is selected then add gamma parameter <its mandatory>"
   ]
  },
  {
   "cell_type": "raw",
   "metadata": {},
   "source": []
  }
 ],
 "metadata": {
  "kernelspec": {
   "display_name": "Python 3",
   "language": "python",
   "name": "python3"
  },
  "language_info": {
   "codemirror_mode": {
    "name": "ipython",
    "version": 3
   },
   "file_extension": ".py",
   "mimetype": "text/x-python",
   "name": "python",
   "nbconvert_exporter": "python",
   "pygments_lexer": "ipython3",
   "version": "3.7.6"
  }
 },
 "nbformat": 4,
 "nbformat_minor": 4
}
