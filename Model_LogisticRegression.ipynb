{
 "cells": [
  {
   "cell_type": "code",
   "execution_count": null,
   "metadata": {},
   "outputs": [],
   "source": [
    "### Model_LogisticRegression"
   ]
  },
  {
   "cell_type": "code",
   "execution_count": null,
   "metadata": {},
   "outputs": [],
   "source": []
  },
  {
   "cell_type": "code",
   "execution_count": null,
   "metadata": {},
   "outputs": [],
   "source": [
    "T = pd.read_csv(\"/50_Startups.csv\")\n",
    "T.head()\n",
    "T.corr()\n",
    "# Target feature : Profit  [Contineous]\n",
    "# Target variable : RND & MKT [Contineous]\n",
    "\n",
    "# Convert Profit data in range (0 - 1)\n",
    "# Find mean of Profit\n",
    "import numpy as np\n",
    "np.mean(T.PROFIT)\n",
    "R = []\n",
    "for i in T.PROFIT:\n",
    "    if(i>112012):\n",
    "        R.append(1)\n",
    "    else:\n",
    "        R.append(0)          \n",
    "T['New_Profit'] = R\n",
    "T\n",
    "import seaborn as sb\n",
    "sb.pairplot(T)\n",
    "import seaborn as sb\n",
    "sb.boxplot(T.New_Profit,T.RND)\n",
    "import seaborn as sb\n",
    "sb.boxplot(T.New_Profit,T.MKT)\n",
    "sb.countplot(T.New_Profit)\n",
    "sb.countplot(T.STATE)\n",
    "X = T[['RND','MKT']]\n",
    "Y = T[['New_Profit']]\n",
    "from sklearn.model_selection import train_test_split\n",
    "xtrain,xtest,ytrain,ytest = train_test_split(X,Y,test_size = 0.2,random_state = 5)\n",
    "from sklearn.linear_model import LogisticRegression\n",
    "lr = LogisticRegression()\n",
    "Model = lr.fit(xtrain,ytrain)\n",
    "y_pred = Model.predict(xtest)\n",
    "y_pred\n",
    "Model.predict_proba(xtest)\n",
    "Result = pd.DataFrame(xtest)\n",
    "Result['Actual'] = ytest\n",
    "Result['Predicted']= y_pred\n",
    "Result\n",
    "from sklearn.metrics import accuracy_score\n",
    "ac = accuracy_score(ytest,y_pred)\n",
    "ac\n",
    "Model.predict_proba(xtest[['RND','MKT']])\n"
   ]
  },
  {
   "cell_type": "code",
   "execution_count": null,
   "metadata": {},
   "outputs": [],
   "source": [
    "from sklearn.metrics import confusion_matrix\n",
    "cm = confusion_matrix(ytest,y_pred)\n",
    "cm\n",
    "# calculate the fpr and tpr for all thresholds of the classification\n",
    "import sklearn.metrics as m\n",
    "Prob = Model.predict_proba(xtest[[‘RND','MKT']])\n",
    "pred = Prob[:,1]\n",
    "pred\n",
    "fpr,tpr,threshold = m.roc_curve(ytest,pred)\n",
    "roc_auc = m.auc(fpr,tpr)\n",
    "roc_auc\n",
    "fpr\n",
    "tpr\n",
    "threshold\n",
    "# accuracy Score\n",
    "m.accuracy_score(ytest,y_pred\n",
    "\n",
    "import matplotlib.pyplot as plt\n",
    "plt.plot(fpr,tpr,roc_auc)\n",
    "print(m.classification_report(ytest,y_pred))"
   ]
  },
  {
   "cell_type": "code",
   "execution_count": null,
   "metadata": {},
   "outputs": [],
   "source": []
  }
 ],
 "metadata": {
  "kernelspec": {
   "display_name": "Python 3",
   "language": "python",
   "name": "python3"
  },
  "language_info": {
   "codemirror_mode": {
    "name": "ipython",
    "version": 3
   },
   "file_extension": ".py",
   "mimetype": "text/x-python",
   "name": "python",
   "nbconvert_exporter": "python",
   "pygments_lexer": "ipython3",
   "version": "3.7.6"
  }
 },
 "nbformat": 4,
 "nbformat_minor": 4
}
