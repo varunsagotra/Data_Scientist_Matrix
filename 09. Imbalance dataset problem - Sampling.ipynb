{
 "cells": [
  {
   "cell_type": "markdown",
   "metadata": {},
   "source": [
    "## Imbalance dataset problem : Sampling up/down"
   ]
  },
  {
   "cell_type": "markdown",
   "metadata": {},
   "source": [
    "> Imbalance dataset problem :: \n",
    "* Imbalance dataset will lead to bias issue :: i.e. it is biased to give o/p for the majority\n",
    "\n",
    "> Imbalance Techniques to fix sampling issue ::\n",
    "* 1. Upsampling   >> Oversampling > RandomOverSampler\n",
    "* 2. Downsampling >> Under_sampling"
   ]
  },
  {
   "cell_type": "markdown",
   "metadata": {},
   "source": [
    "#### Imbalance dataset with Under Sampling/down sampling Issue ::\n",
    "> Under Sampling/down sampling Techniques ::\n",
    "> Under_sampling\n",
    "\n",
    "* Reduce the bigger sample size to :: equivalent to small sample\n",
    "* It should be only done when you have huge dataset\n",
    "* In case of small dataset do not perform under sampling\n",
    "\n",
    "** Will lose some critical information"
   ]
  },
  {
   "cell_type": "raw",
   "metadata": {},
   "source": [
    "##### Code\n",
    "from imblearn.under_sampling import NearMiss\n",
    "nm = NearMiss(random_state = i)\n",
    "X_res,Y_res=nm.fit_sample(X,Y)\n",
    "X_res.shape, Y_res.shape\n",
    "\n",
    "#To check previous with latest\n",
    "from collections  import counter\n",
    "print(Original dataset shape { }’.format(counter(Y))\n",
    "print(Resampled dataset shape { }’.format(counter(Y_res))"
   ]
  },
  {
   "cell_type": "raw",
   "metadata": {},
   "source": []
  },
  {
   "cell_type": "markdown",
   "metadata": {},
   "source": [
    "#### Imbalance dataset with Over Sampling/Up Sampling Issue ::\n",
    "\n",
    "> Over Sampling/Up Sampling Techniques ::\n",
    "1. Oversampling > RandomOverSampler\n",
    "2. Artificial/Synthetic points ->\n",
    "3. Class weights -> ( XG boost,Ada boost ) \n",
    "\n",
    "- Increase no. of samples size of small dataset :: equivalent to bigger dataset\n",
    "- It is more efficient technique\n",
    "\n",
    "** Overfitting issue may occur "
   ]
  },
  {
   "cell_type": "raw",
   "metadata": {},
   "source": [
    "##### Code\n",
    "from imblearn.over_sampling import RandomOverSampler\n",
    "os = RandomOverSampler(ratio = 1 )\n",
    "X_res,Y_res=os.fit_sample(X,Y)\n",
    "X_res.shape, Y_res.shape"
   ]
  },
  {
   "cell_type": "raw",
   "metadata": {},
   "source": [
    "##### Code\n",
    "from imblearn.combine import SMOTETomeK\n",
    "nm = SMOTETomeK(random_state = i).  # or use (ratio = 1)\n",
    "X_res,Y_res=nm.fit_sample(X,Y)\n",
    "X_res.shape, Y_res.shape"
   ]
  },
  {
   "cell_type": "raw",
   "metadata": {},
   "source": []
  }
 ],
 "metadata": {
  "kernelspec": {
   "display_name": "Python 3",
   "language": "python",
   "name": "python3"
  },
  "language_info": {
   "codemirror_mode": {
    "name": "ipython",
    "version": 3
   },
   "file_extension": ".py",
   "mimetype": "text/x-python",
   "name": "python",
   "nbconvert_exporter": "python",
   "pygments_lexer": "ipython3",
   "version": "3.7.6"
  }
 },
 "nbformat": 4,
 "nbformat_minor": 4
}
