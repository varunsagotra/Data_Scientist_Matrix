{
 "cells": [
  {
   "cell_type": "markdown",
   "metadata": {},
   "source": [
    "## Code_Exception Handling"
   ]
  },
  {
   "cell_type": "code",
   "execution_count": null,
   "metadata": {},
   "outputs": [],
   "source": [
    "# Code Structure ::\n",
    "try:\n",
    "    #your logic\n",
    "except:\n",
    "    #if you have any error in try blokc except will get executed\n",
    "finally:\n",
    "    #This will execute every time if you have error or not"
   ]
  },
  {
   "cell_type": "code",
   "execution_count": null,
   "metadata": {},
   "outputs": [],
   "source": [
    "# Code -1 ::\n",
    "try:\n",
    "    amount = int(input(\"Enter amount \"))\n",
    "except:\n",
    "    print(\"Amount must be numbers [int]\")\n",
    "finally:\n",
    "    print(\"finally comes every time:-)\")"
   ]
  },
  {
   "cell_type": "code",
   "execution_count": null,
   "metadata": {},
   "outputs": [],
   "source": [
    "# Code -2 ::\n",
    "try:\n",
    "    amount = int(input(\"Enter amount \"))\n",
    "except Exception as e:\n",
    "    print(e)\n",
    "finally:\n",
    "    print(\"finally comes every time:-)\")\n",
    "    \n",
    "print(\"After exception handling my program never crash it will gives me exception!\")"
   ]
  },
  {
   "cell_type": "code",
   "execution_count": null,
   "metadata": {},
   "outputs": [],
   "source": [
    "# Code -3 ::\n",
    "try:\n",
    "    10/0\n",
    "except Exception as e:\n",
    "    print(\"Error : \", e)\n",
    "finally:\n",
    "    print(\"finally comes every time:-)\")\n",
    "    \n",
    "print(\"After exception handling my program never crash it will gives me exception!\")"
   ]
  },
  {
   "cell_type": "code",
   "execution_count": null,
   "metadata": {},
   "outputs": [],
   "source": [
    "# Code -4 ::\n",
    "try:\n",
    "    10/'0'\n",
    "except Exception as e:\n",
    "    print(\"Error : \", e)\n",
    "finally:\n",
    "    print(\"finally comes every time:-)\")\n",
    "    \n",
    "print(\"After exception hadnling my program never carsh it will gives me exception!\")"
   ]
  },
  {
   "cell_type": "code",
   "execution_count": 1,
   "metadata": {},
   "outputs": [],
   "source": [
    "# Code -5 ::\n",
    "try:\n",
    "    #db connection\n",
    "except Exception as e:\n",
    "    #error\n",
    "finally:\n",
    "    #close the connect db\n",
    "    \n",
    "print(\"After exception hadnling my program never carsh it will gives me exception!\")"
   ]
  },
  {
   "cell_type": "code",
   "execution_count": null,
   "metadata": {},
   "outputs": [],
   "source": [
    "# Code -6 ::\n",
    "try:\n",
    "    10/2\n",
    "except Exception as e:\n",
    "    print(\"Error : \", e)\n",
    "finally:\n",
    "    print(\"finally comes every time:-)\")\n",
    "    \n",
    "print(\"After exception hadnling my program never carsh it will gives me exception!\")"
   ]
  },
  {
   "cell_type": "code",
   "execution_count": null,
   "metadata": {},
   "outputs": [],
   "source": [
    "# Code -7 ::\n",
    "try:\n",
    "    10/0\n",
    "except TypeError:\n",
    "    print(\"Error : \", TypeError)\n",
    "except NameError:\n",
    "    print(\"Error : \", NameError)\n",
    "except ZeroDivisionError:\n",
    "    print(\"Error : \", ZeroDivisionError)\n",
    "except Exception as e:\n",
    "    print(\"Error : \", e)\n",
    "finally:\n",
    "    print(\"finally comes every time:-)\")"
   ]
  },
  {
   "cell_type": "code",
   "execution_count": null,
   "metadata": {},
   "outputs": [],
   "source": [
    "# Code -8 ::\n",
    "try:\n",
    "    10/2\n",
    "    try:\n",
    "        10/0\n",
    "    except Exception as e:\n",
    "        print(\"Inner exception block \",e)\n",
    "except Exception as e:\n",
    "    print(\"Outer exception block \", e)"
   ]
  },
  {
   "cell_type": "code",
   "execution_count": null,
   "metadata": {},
   "outputs": [],
   "source": [
    "# Code -9 ::\n",
    "try:\n",
    "    10/2\n",
    "except Exception as e:\n",
    "    print(\"Outer exception block \", e)\n",
    "else:\n",
    "    print(\"If there is no exception in your program then else will execute\")\n",
    "finally:\n",
    "    print(\"finlly\")"
   ]
  },
  {
   "cell_type": "code",
   "execution_count": null,
   "metadata": {},
   "outputs": [],
   "source": [
    "# Code -10 ::\n",
    "try:\n",
    "    #db connection / read a file\n",
    "except Exception as e:\n",
    "    #if db connection is not setupd? / file not found?\n",
    "else:\n",
    "    #logical operation\n",
    "finally:\n",
    "    #close connection / close file"
   ]
  },
  {
   "cell_type": "code",
   "execution_count": null,
   "metadata": {},
   "outputs": [],
   "source": []
  }
 ],
 "metadata": {
  "kernelspec": {
   "display_name": "Python 3",
   "language": "python",
   "name": "python3"
  },
  "language_info": {
   "codemirror_mode": {
    "name": "ipython",
    "version": 3
   },
   "file_extension": ".py",
   "mimetype": "text/x-python",
   "name": "python",
   "nbconvert_exporter": "python",
   "pygments_lexer": "ipython3",
   "version": "3.7.6"
  }
 },
 "nbformat": 4,
 "nbformat_minor": 4
}
