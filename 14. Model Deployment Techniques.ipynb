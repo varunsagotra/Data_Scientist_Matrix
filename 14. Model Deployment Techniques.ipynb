{
 "cells": [
  {
   "cell_type": "markdown",
   "metadata": {},
   "source": [
    "## Model Deployment Techniques ::"
   ]
  },
  {
   "cell_type": "markdown",
   "metadata": {},
   "source": [
    ">> Save Model Using ::\n",
    "1. Pickle\n",
    "2. Joblib"
   ]
  },
  {
   "cell_type": "raw",
   "metadata": {},
   "source": [
    "# Code :: To Save Model "
   ]
  },
  {
   "cell_type": "raw",
   "metadata": {},
   "source": [
    "### Premises VS IAAS vs PAAS cloud Platforms - 1"
   ]
  },
  {
   "cell_type": "markdown",
   "metadata": {},
   "source": [
    "# Deployment of Models- Premises VS IAAS vs PAAS cloud Platforms"
   ]
  },
  {
   "cell_type": "raw",
   "metadata": {},
   "source": [
    "### ML models in Heroku using FLASK - 2 "
   ]
  },
  {
   "cell_type": "markdown",
   "metadata": {},
   "source": [
    "# Deployment of ML models in Heroku using FLASK"
   ]
  },
  {
   "cell_type": "raw",
   "metadata": {},
   "source": [
    "### NLP Model in Heroku Cloud - 3"
   ]
  },
  {
   "cell_type": "markdown",
   "metadata": {},
   "source": [
    "# Deployment of NLP Model in Heroku Cloud"
   ]
  },
  {
   "cell_type": "raw",
   "metadata": {},
   "source": [
    "### ML Models In AWS EC2 Instance - 4"
   ]
  },
  {
   "cell_type": "markdown",
   "metadata": {},
   "source": [
    "# Deployment Of ML Models In AWS EC2 Instance"
   ]
  },
  {
   "cell_type": "raw",
   "metadata": {},
   "source": [
    "### Movie Recommendation Model In Heroku - 5"
   ]
  },
  {
   "cell_type": "markdown",
   "metadata": {},
   "source": [
    "# Deployment Of Movie Recommendation Model By My Subscriber In Heroku"
   ]
  },
  {
   "cell_type": "raw",
   "metadata": {},
   "source": [
    "### MLModels in Google Cloud Platform - 6"
   ]
  },
  {
   "cell_type": "markdown",
   "metadata": {},
   "source": [
    "# Deployment of Machine Learning Models in Google Cloud Platform"
   ]
  },
  {
   "cell_type": "raw",
   "metadata": {},
   "source": [
    "### ML Models In Azure Cloud - 7"
   ]
  },
  {
   "cell_type": "markdown",
   "metadata": {},
   "source": [
    "# Deploying Machine Learning Models In Azure Cloud"
   ]
  },
  {
   "cell_type": "markdown",
   "metadata": {},
   "source": []
  }
 ],
 "metadata": {
  "kernelspec": {
   "display_name": "Python 3",
   "language": "python",
   "name": "python3"
  },
  "language_info": {
   "codemirror_mode": {
    "name": "ipython",
    "version": 3
   },
   "file_extension": ".py",
   "mimetype": "text/x-python",
   "name": "python",
   "nbconvert_exporter": "python",
   "pygments_lexer": "ipython3",
   "version": "3.7.6"
  }
 },
 "nbformat": 4,
 "nbformat_minor": 4
}
