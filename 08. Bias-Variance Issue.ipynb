{
 "cells": [
  {
   "cell_type": "markdown",
   "metadata": {},
   "source": [
    "### Bias-Variance Issue\n",
    "1. Overfitting  :: Low bias - high variance\n",
    "2. Underfitting :: High bias - high variance \n",
    "3. Bestfit      :: Low bias - low variance"
   ]
  },
  {
   "cell_type": "markdown",
   "metadata": {},
   "source": [
    "@Bias >> Training Error %\n",
    "@Variance >> Test Error %"
   ]
  },
  {
   "cell_type": "markdown",
   "metadata": {},
   "source": [
    "> Low Bias (TRAINING 1%) - High Variance (TESTING 20%)\n",
    "* Leads to OVERFITTING issue\n",
    "* Overfitting : Captures noise along with underlying patterns\n",
    "\n",
    "*Model Trained with all relevant (exact-very specific)/unnecessary Features"
   ]
  },
  {
   "cell_type": "markdown",
   "metadata": {},
   "source": [
    "> High Bias (TRAINING 25%) - High Variance (TESTING 26%)\n",
    "* Leads to UNDERFITTING issue\n",
    "* Undefitting :: happens when model unable to capture underlying patterns\n",
    "* happens :: When Data is less\n",
    "* happens :: When build a linear model with non linear data\n",
    "\n",
    "*Model Trained with Less Features"
   ]
  },
  {
   "cell_type": "markdown",
   "metadata": {},
   "source": [
    "> Low Bias (TRAINING <10%) - Low Variance (TESTING <10%)\n",
    "- Leads to BEST FIT \n",
    "\n",
    "*Model Trained with relevant features only [Domain Expertise Required]"
   ]
  },
  {
   "cell_type": "markdown",
   "metadata": {},
   "source": [
    "#### Graphs & Plots >>> [[ Training Error vs CV Error ]]\n",
    "- Find/Search >> Minima [Local/Global]"
   ]
  },
  {
   "cell_type": "markdown",
   "metadata": {},
   "source": [
    "`Compare Traning Performance vs Testing Performance to validate Bias & Variance issue"
   ]
  },
  {
   "cell_type": "markdown",
   "metadata": {},
   "source": [
    "### How to fix Bias-Variance Issues  ::\n",
    "- Increase no. of parameters\n",
    "- Increase training time until cost function in ML is minimised\n",
    "- Tradeoff :: Tension between the error introduced by the bias & the variance"
   ]
  },
  {
   "cell_type": "code",
   "execution_count": null,
   "metadata": {},
   "outputs": [],
   "source": []
  }
 ],
 "metadata": {
  "kernelspec": {
   "display_name": "Python 3",
   "language": "python",
   "name": "python3"
  },
  "language_info": {
   "codemirror_mode": {
    "name": "ipython",
    "version": 3
   },
   "file_extension": ".py",
   "mimetype": "text/x-python",
   "name": "python",
   "nbconvert_exporter": "python",
   "pygments_lexer": "ipython3",
   "version": "3.7.6"
  }
 },
 "nbformat": 4,
 "nbformat_minor": 4
}
