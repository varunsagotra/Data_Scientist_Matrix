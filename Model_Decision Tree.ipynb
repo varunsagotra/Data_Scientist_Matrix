{
 "cells": [
  {
   "cell_type": "code",
   "execution_count": null,
   "metadata": {},
   "outputs": [],
   "source": [
    "Model_Decision Tree"
   ]
  },
  {
   "cell_type": "raw",
   "metadata": {},
   "source": [
    "# Decision Tree -\n",
    "- CART : Classification & Regression\n",
    "    >>> Decision Tree : 1.DecisionTreeRegressor\n",
    "                        2.DecisionTreeClassifier\n",
    "- Works better on semi-linear data set i.e Mixed (Linear & Non-Linear)\n",
    "- Probem to overcome : Overfitting\n",
    "- Optimization Strategy : Parameter : 1. Max-Depth , \n",
    "                                      2. Min. Sample Leaf\n",
    " * better Parameter for large dataset is : Min. Sample Leaf\n",
    "< Best Value for accuray : Cross Validation instead of random state>    \n",
    "    "
   ]
  },
  {
   "cell_type": "raw",
   "metadata": {},
   "source": [
    "Instead of MSE/MAE for Evaluation >> Entropy / Gini\n",
    "prediction > partition data > mean()\n",
    "Prediction > partition data > majority vote()\""
   ]
  },
  {
   "cell_type": "code",
   "execution_count": null,
   "metadata": {},
   "outputs": [],
   "source": [
    "from pandas import read_csv\n",
    "A = read_csv(\"/Cars93.csv\")\n",
    "A.head(2)\n",
    "import seaborn as sb\n",
    "import matplotlib.pyplot as plt\n",
    "for i in A.columns:\n",
    "    if(A[i].dtypes==\"object\"):\n",
    "        sb.countplot(A.Type,hue=A[i])\n",
    "        plt.show()\n",
    "    else:\n",
    "        sb.boxplot(A.Type,A[i])\n",
    "        plt.show()\n",
    "A.columns\n",
    "X = A.drop(labels=[\"Unnamed: 0\",\"Manufacturer\",\"Model\",\"Make\",\"Type\"],axis=1)\n",
    "from sklearn.preprocessing import LabelEncoder\n",
    "le = LabelEncoder()\n",
    "X = X.apply(le.fit_transform)\n",
    "Y = A[[“Type\"]]\n",
    "for i in range(1,100,1):\n",
    "    from sklearn.model_selection import train_test_split\n",
    "    xtrain,xtest,ytrain,ytest=train_test_split(X,Y,test_size=0.2,random_state= i)\n",
    "    from sklearn.tree import DecisionTreeClassifier\n",
    "    dtc = DecisionTreeClassifier(criterion=\"entropy\",random_state=9)\n",
    "    model = dtc.fit(xtrain,ytrain)\n",
    "    pred = model.predict(xtest)\n",
    "*************************************************************\n",
    "# After Pruning :: min_samples_leaf\n",
    "X = A.drop(labels=[\"Unnamed: 0\",\"Manufacturer\",\"Model\",\"Make\",\"Type\"],axis=1)\n",
    "from sklearn.preprocessing import LabelEncoder\n",
    "le = LabelEncoder()\n",
    "X = X.apply(le.fit_transform)\n",
    "Y = A[[\"Type\"]]\n",
    "from sklearn.model_selection import train_test_split\n",
    "xtrain,xtest,ytrain,ytest=train_test_split(X,Y,test_size=0.2,random_state=10)\n",
    "\n",
    "dtc = DecisionTreeClassifier(criterion=\"entropy\",random_state=30)\n",
    "from sklearn.model_selection import GridSearchCV\n",
    "tp = {\"min_samples_leaf\":range(2,20,1)}\n",
    "cv = GridSearchCV(dtc,tp,scoring=\"accuracy\",cv=4)\n",
    "cvmodel = cv.fit(xtrain,ytrain)\n",
    "md = cvmodel.best_params_[\"min_samples_leaf\"]\n",
    "\n",
    "dtc1 = DecisionTreeClassifier(criterion=\"entropy\",random_state=30,min_samples_leaf=md)\n",
    "model1 = dtc1.fit(xtrain,ytrain)\n",
    "pred = model1.predict(xtest)\n",
    "from sklearn.metrics import accuracy_score\n",
    "accuracy_score(ytest,pred)\n",
    "\n",
    "md = cvmodel.best_params_[\"min_samples_leaf\"]\n",
    "md\n",
    "*************************************************************\n",
    "# After Pruning :: max_depth\n",
    "\n",
    "X = A.drop(labels=[\"Unnamed: 0\",\"Manufacturer\",\"Model\",\"Make\",\"Type\"],axis=1)\n",
    "from sklearn.preprocessing import LabelEncoder\n",
    "le = LabelEncoder()\n",
    "X = X.apply(le.fit_transform)\n",
    "Y = A[[\"Type\"]]\n",
    "from sklearn.model_selection import train_test_split\n",
    "xtrain,xtest,ytrain,ytest=train_test_split(X,Y,test_size=0.2,random_state=10)\n",
    "\n",
    "dtc = DecisionTreeClassifier(criterion=\"entropy\",random_state=5)\n",
    "from sklearn.model_selection import GridSearchCV\n",
    "tp = {\"max_depth\":range(2,20,1)}\n",
    "cv = GridSearchCV(dtc,tp,scoring=\"accuracy\",cv=4)\n",
    "cvmodel = cv.fit(xtrain,ytrain)\n",
    "md = cvmodel.best_params_[\"max_depth\"]\n",
    "\n",
    "dtc1 = DecisionTreeClassifier(criterion=\"entropy\",random_state=10,max_depth=md)\n",
    "model1 = dtc1.fit(xtrain,ytrain)\n",
    "pred = model1.predict(xtest)\n",
    "from sklearn.metrics import accuracy_score\n",
    "accuracy_score(ytest,pred)\n",
    "\n",
    "md = cvmodel.best_params_[\"max_depth\"]\n",
    "md\n",
    "#************************************************************\n",
    "from sklearn.tree import export_graphviz\n",
    "export_graphviz(dtc1,out_file=\"/g21.dot\")\n",
    "import pydotplus as pdp\n",
    "graph = pdp.graph_from_dot_file(\"g21.dot\")\n",
    "from IPython.display import Image\n",
    "Image(graph.create_jpg())"
   ]
  },
  {
   "cell_type": "code",
   "execution_count": null,
   "metadata": {},
   "outputs": [],
   "source": [
    "from sklearn.metrics import accuracy_score\n",
    "accuracy_score(ytest,pred)"
   ]
  },
  {
   "cell_type": "code",
   "execution_count": null,
   "metadata": {},
   "outputs": [],
   "source": [
    "# Comparision\n",
    "from sklearn.linear_model import LogisticRegression\n",
    "lr = LogisticRegression()\n",
    "model = lr.fit(xtrain,ytrain)\n",
    "pred = model.predict(xtest)\n",
    "from sklearn.metrics import accuracy_score\n",
    "accuracy_score(ytest,pred)"
   ]
  },
  {
   "cell_type": "code",
   "execution_count": null,
   "metadata": {},
   "outputs": [],
   "source": []
  },
  {
   "cell_type": "code",
   "execution_count": null,
   "metadata": {},
   "outputs": [],
   "source": []
  }
 ],
 "metadata": {
  "kernelspec": {
   "display_name": "Python 3",
   "language": "python",
   "name": "python3"
  },
  "language_info": {
   "codemirror_mode": {
    "name": "ipython",
    "version": 3
   },
   "file_extension": ".py",
   "mimetype": "text/x-python",
   "name": "python",
   "nbconvert_exporter": "python",
   "pygments_lexer": "ipython3",
   "version": "3.7.6"
  }
 },
 "nbformat": 4,
 "nbformat_minor": 4
}
