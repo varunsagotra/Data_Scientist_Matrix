{
 "cells": [
  {
   "cell_type": "markdown",
   "metadata": {},
   "source": [
    "`Use after hyper parameter optimisation is done :: To check which particular model's performance is best among many models \n",
    "|| It’s an Alternate method to train test split method"
   ]
  },
  {
   "cell_type": "markdown",
   "metadata": {},
   "source": [
    "## Cross Validation Techniques/Types ::    \n",
    "1. K fold - cross validation\n",
    "2. Stratified cross validation (To overcome problems in K-fold)\n",
    "3. Time series Cross Validation :: "
   ]
  },
  {
   "cell_type": "markdown",
   "metadata": {},
   "source": [
    "> K fold - cross validation\n",
    "\n",
    "- Iteration : K = n\n",
    "- Calculate Mean of n iterations\n",
    "- We have range of accuracy as Min & Max from iterations\n",
    "** In result we have :: Min,Max, Average values"
   ]
  },
  {
   "cell_type": "markdown",
   "metadata": {},
   "source": [
    "#### K-Fold CV ::\n",
    "\n",
    "> Used where the Goal is >>> Prediction\n",
    "- To reduce variability  (variance) perform multiple rounds of CV with different subsets of same data\n",
    "- Prevents Overfitting\n",
    "- Use initial training data to generate mini train-test splits - Use splits to tune your model\n",
    "- is used to estimate the accuracy / Not improving the accuracy\n",
    "\n",
    "** Why USE :: To ensure that every observation from original dataset has a chance of appearing in training & test set\n",
    "\n",
    "Take the average/mean of recorded scores"
   ]
  },
  {
   "cell_type": "code",
   "execution_count": null,
   "metadata": {},
   "outputs": [],
   "source": [
    "from sklearn.model_selection import cross_val_score\n",
    "Score = cross_val_score(classifier,X,Y, cv= 10)\n",
    "Score\n",
    "Score.mean()\n",
    "\n",
    "# * Find best method among many for higher accuracy using this method *"
   ]
  },
  {
   "cell_type": "markdown",
   "metadata": {},
   "source": [
    "#### Stratified cross validation (To overcome problems in K-fold)\n",
    "1. No. of instances of each class is present in each & every iteration"
   ]
  },
  {
   "cell_type": "raw",
   "metadata": {},
   "source": [
    "from sklearn.model_selection import StratifiedKfold\n",
    "accuracy = [ ]\n",
    "skf = StratifiedKfold(n_splits = 5, random_state = None)\n",
    "skf.get_n_splits(X,Y)\n",
    "For train_index,test_index in skf.split(X,Y):\n",
    "print(“Train:”,train_index,”Validation”,test_index)\n",
    "X1_train,X1_test =  X.iloc[train.index],X.iloc[test_index]\n",
    "y1_train,y1_test =  y.iloc[train.index],y.iloc[test_index]\n",
    "Classifier.fit(X1_train,y1_train)\n",
    "prediction= Classifier.predict(X1_test)\n",
    "Score = accuracy_score(prediction,y1_test)\n",
    "Accuracy.append(Score)\n",
    "print(Accuracy)\n",
    "\n",
    "import numpy as np\n",
    "np.array(Accuracy).mean()"
   ]
  },
  {
   "cell_type": "markdown",
   "metadata": {},
   "source": [
    "#### Time series Cross Validation ::\n",
    "1. It will work for dataset having time series type data problem - like Data,Time,… >> Stock price detection\n",
    "2. Used for specific problem only i.e. Time , day related"
   ]
  },
  {
   "cell_type": "raw",
   "metadata": {},
   "source": []
  }
 ],
 "metadata": {
  "kernelspec": {
   "display_name": "Python 3",
   "language": "python",
   "name": "python3"
  },
  "language_info": {
   "codemirror_mode": {
    "name": "ipython",
    "version": 3
   },
   "file_extension": ".py",
   "mimetype": "text/x-python",
   "name": "python",
   "nbconvert_exporter": "python",
   "pygments_lexer": "ipython3",
   "version": "3.7.6"
  }
 },
 "nbformat": 4,
 "nbformat_minor": 4
}
