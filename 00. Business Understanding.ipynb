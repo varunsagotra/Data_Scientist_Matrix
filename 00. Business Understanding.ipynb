{
 "cells": [
  {
   "cell_type": "markdown",
   "metadata": {},
   "source": [
    "## 00. Business Understanding\n",
    "\n",
    "\n",
    "[ `Note`: There are many approaches but i have just mentioned a glimpse of one of the approach. Approaches are automatically build based on experience,once you have experienced yourself end to end project flow then by using your experience you can customize/tailor your approach for best performance]"
   ]
  },
  {
   "cell_type": "raw",
   "metadata": {},
   "source": [
    "QUESTION :- WHAT IS THE PROBLEM YOU ARE TRYING TO SOLVE ?\n",
    "\n",
    "`Problem Identification`|   `Use Case Type`              |\t`Algorithm Mapping`       |\n",
    "_____________________________________________________________________________________                 \n",
    "*  Number Related       | HOW MUCH OR HOW MANY           |   REGRESSION\n",
    "*  Category Related     | WHICH CATEGORY ?               |   CLASSIFICATION\n",
    "*  Group Related        | WHICH GROUP ?                  |   CLUSTERING\n",
    "*  Choice Related       | WHICH OPTION SHOULD BE TAKEN ? |   RECOMMENDATION\n",
    "*  If it's outlandish ? | ANOMALY DETECTION\n",
    "_____________________________________________________________________________________\n",
    "\n",
    "*Anomaly detection : Identification of items or events that do not confirm(raise suspicions by differing significantly from the majority of the data) to an expected pattern or to other items present in a dataset"
   ]
  },
  {
   "cell_type": "markdown",
   "metadata": {},
   "source": [
    "> `Three Step Solution` ::\t\n",
    "* Step 1 ::\tDefine a **[ Clear Business Problem ]**\n",
    "* Step 2 ::\tConvert  **[ Business Problem ]   To   [ Analytical Problem ]**\n",
    "* Step 3 ::\tConvert  **[ Analytical Problem ] To   [ Engineering Problem ]**"
   ]
  },
  {
   "cell_type": "markdown",
   "metadata": {},
   "source": [
    "> `Step 1 to Step 2 :: Business To Analytical Conversion`\t::\n",
    "* To convert it into an analytical problem means quantifying business definitions.\n",
    "* For example, what qualifies as “bad” service feedback? More than four negative ratings? \n",
    "* How do we define “loyal” customers? Customers who we’ve had for months or longer?\t\t"
   ]
  },
  {
   "cell_type": "markdown",
   "metadata": {},
   "source": [
    "> `NEXT`\t\n",
    "* We should ask how we’ll arrive at a hypothesis about the root cause of the business problem. Typically, that will be a process involving business stakeholders and researchers, but not a lot of engineers.\t"
   ]
  },
  {
   "cell_type": "markdown",
   "metadata": {},
   "source": [
    "> `Step 2 to Step 3 :: Analytical To Engineering Conversion` ::\n",
    "* We have to look for data sources to validate the initial hypothesis and then arrive at a feature list. As you may have noticed, a feature list is not something to start a project with. Doing so is common among many naive scientists.\n",
    "\n",
    "**It’s always advisable to have many small data science projects (spanning 6 weeks or so) than one large one in order to offset the risk of failure**"
   ]
  },
  {
   "cell_type": "markdown",
   "metadata": {},
   "source": [
    "> `BEST APPROACH` ::\n",
    "The best approach is a three-step solution for conducting brainstorming workshop with all stakeholders\n",
    "* Such a discovery workshop conducted over 1–2 days lets you de-leverage from the specific data science project. \n",
    "* For the discovery workshop, business & tech stakeholders come together in the same room with data scientists. \n",
    "* The data science team can run the agenda to arrive at a skeleton of core answers that they need in order to deliver a successful project. \n",
    "* At times, it involves clients who already have a data science presence but who are looking for expert help in order to unlock even more AI potential. \n",
    "* This agenda also gels well with the Design Thinking methodology and provides what the team needs to know."
   ]
  },
  {
   "cell_type": "markdown",
   "metadata": {},
   "source": [
    "### Agenda::"
   ]
  },
  {
   "cell_type": "markdown",
   "metadata": {},
   "source": [
    "`Participants Required` \n",
    "* Business Stakeholders\n",
    "* Tech Stakeholders"
   ]
  },
  {
   "cell_type": "markdown",
   "metadata": {},
   "source": [
    "> `POINT - 1` ::\n",
    "**A. Why are we doing what we are doing? What is driving the need?**\n",
    "* Q 01: Connect with business stakeholders to identify and validate pain points.\n",
    "* Q 02: Later, ask tech stakeholders why they haven’t been able to solve the issue already.\n",
    "* Q 03: What do business stakeholders see as the cause of this pain? It’s critical to have decision makers in the room and not just implementers and engineers     "
   ]
  },
  {
   "cell_type": "markdown",
   "metadata": {},
   "source": [
    "> `POINT - 2` ::\n",
    "**B. How does this use case impact the business?**\n",
    "* Q 04: Can we measure the monetary impact?\n",
    "* Q 05: How will we measure improvement to the model in terms of business KPI?\n",
    "* Q 06: How is the model consumed? Which department or organization consumes the model?\n",
    "* Q 07: How do executives see the impact of the model? Is it about budgets, dashboards, or the bottom-line? What will drive wider adoption of this across the enterprise?\""
   ]
  },
  {
   "cell_type": "markdown",
   "metadata": {},
   "source": [
    "> `POINT - 3` ::\n",
    "**C. MVP - Putting the end first**\n",
    "* Q 08: Ask each person to deliberate on the use case. Ask one person at a time.\n",
    "* Q 09: Show a demo of similar solved problems to offer a template for diving deeply into the use case at hand.\n",
    "* Q 10: Perform an overview of the objectives for visualizations.\n",
    "* Q 11: Picture the end product that people have in mind.\""
   ]
  },
  {
   "cell_type": "markdown",
   "metadata": {},
   "source": [
    "> `POINT - 4` ::\n",
    "**D. Analytical Problem**\n",
    "* Q 12: Convert the business problem to an analytical problem. Split the qualitative concepts into quantitative measures and formulate a hypothesis.\n",
    "* Q 13: Discuss data availability, access and governance issues.\n",
    "* Q 14: Discuss architecture, scalability, infrastructure & deployment needs if any."
   ]
  },
  {
   "cell_type": "markdown",
   "metadata": {},
   "source": [
    "> `POINT - 5` ::\n",
    "**E. Engineering Problem**\n",
    "* Q 15: Convert the analytical to an engineering problem by defining the KPIs for success.\n",
    "* Q 16: Scope out the project. Focus on what is achievable in a fixed time based on data.\n",
    "* Q 17: Rule out approaches and algorithms that have been tried but haven’t worked.\n",
    "* Q 18: Count the number of models needed and do some feasibility analysis regarding sprint durations.\n",
    "* Q 19: Do due diligence in regard to data quality. Is the data reliable?\n",
    "* Q 20: Identify data engineering requirements. Do you need a distributed system?\n",
    "* Q 21: Put together a rough sketch of sprints & deliverables at the end of each sprint.\""
   ]
  },
  {
   "cell_type": "markdown",
   "metadata": {},
   "source": [
    "> `POINT - 6` ::\n",
    "**F. Legal Discussion**\n",
    "* Q 22: Consider team members’ physical access to data and working arrangements.\n",
    "* Q 23: Set up a support structure during sprint 0, for data prep work.\n",
    "\n",
    "*Sprint 0,basically is a pilot project \n",
    "(- means it's a feasibility study/experimental trial: in a small-scale/short-term experiment that helps an organization learn how a large-scale project might work in practice.)"
   ]
  },
  {
   "cell_type": "code",
   "execution_count": null,
   "metadata": {},
   "outputs": [],
   "source": []
  }
 ],
 "metadata": {
  "kernelspec": {
   "display_name": "Python 3",
   "language": "python",
   "name": "python3"
  },
  "language_info": {
   "codemirror_mode": {
    "name": "ipython",
    "version": 3
   },
   "file_extension": ".py",
   "mimetype": "text/x-python",
   "name": "python",
   "nbconvert_exporter": "python",
   "pygments_lexer": "ipython3",
   "version": "3.7.6"
  }
 },
 "nbformat": 4,
 "nbformat_minor": 4
}
