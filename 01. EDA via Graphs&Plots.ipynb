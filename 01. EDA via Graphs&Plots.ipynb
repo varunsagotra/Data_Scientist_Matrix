{
 "cells": [
  {
   "cell_type": "markdown",
   "metadata": {},
   "source": [
    "##  EDA :via: Graphs&Plots"
   ]
  },
  {
   "cell_type": "markdown",
   "metadata": {},
   "source": [
    "> EDA - Exploratory Data Analysis >> Brain storming of Data Analysis >> Understand Pattern & Bias in your data\n",
    "- The purpose of EDA is to achieve an understanding of the data and to gain insights about phenomena the data represents.\n",
    "- EDA(Exploratory Data Analysis) is one of the methodologies of data analysis to summarize characteristics of dataset with statistical numbers and graph. \n",
    "- EDA is commonly executed prior to main data analysis in order to understand present status(characters) of dataset. You might find problems and solutions by making present status of dataset clear.\n",
    "- EDA is one of the activities in “data analysis” to understand present status of dataset as a first step.\n",
    "- EDA is an iterative process where the data scientist will question, understand, process, transform the data, and repeat [4, 5, 6].\n",
    "- Exploratory data analysis is an iterative cycle with steps including\n",
    "\t1. Questioning the data\n",
    "\t2. Answering the questions by processing and visualizing the data\n",
    "\t3. Refining previous questions after achieving a new understanding, or creating new questions\n",
    "\n",
    "There is no one-size-fits-all data profile that is suitable for comprehensive EDA."
   ]
  },
  {
   "cell_type": "markdown",
   "metadata": {},
   "source": [
    "* Step 01: Check missing data in dataset & resolve <data.info() - non-null value count> + Datatype correction of feature incase of mismatch datatype\n",
    "* Step 02: Handle Categorical features & resolve\n",
    "* Step 03: Check < Check shape of data to find > Imbalance dataset & resolve\n",
    "* Step 04: Feature Selection to do :: Drop unimportant features\n",
    "* Step 05: Drop duplicate rows if any\n",
    "* Step 06: Do sorting with respect to variables\n",
    "* Step 07: Summary statistics :: data.describe() - display/calculate only continuous numeric variables data\n",
    "* Step 08: Replace space in column names\n",
    "* Step 09: Correlation with variables of interest / heat map\n",
    "* Step 10: Correlation plots with using pairplot"
   ]
  },
  {
   "cell_type": "markdown",
   "metadata": {},
   "source": [
    "* Drop duplicate rows if any ::\n",
    "> Data.drop_duplicate(keep=‘first’)\n",
    "* Drop unimportant features if any ::\n",
    "> drop_cols = [‘col1’, ’col2’…]\n",
    "data = data.drop(drop_cols,  axis =1)\n",
    "* Do sorting with respect to variables\n",
    "> data_sort = data.sort_values(by = ‘col1’,ascending=False).head()\n",
    "> data_sort.head()\n",
    "* Replace space in column names ::\n",
    "> data.columns = data.columns.str.replace( ‘  ‘, ’ ’) \n",
    "* Plot graphs\n",
    "> distribution / histogram / crosstab / \n",
    "* Select all numeric variables::\n",
    "> data_num = data.select_dtypes(include=[‘float’,’int’])\n",
    "* histogram\n",
    "> data_num.hist(bins=20)\n",
    "* Correlation with target variable::\n",
    "> data.corr = data_num.corr()[‘target_col_name’][:-1]\n",
    "* plotting categorical variables::\n",
    "> box1 = sis.boxplot(x = ‘col1’,y=‘col2’,data=datasetname)\n",
    "#regression plot ",
    "> sis.regplot(data.col1,data.col2)"
   ]
  },
  {
   "cell_type": "markdown",
   "metadata": {},
   "source": [
    "     Y   <-----  X\n",
    "Target           Predictor ( Continuous , Categorical )"
   ]
  },
  {
   "cell_type": "raw",
   "metadata": {},
   "source": [
    "# Charts & Plots\n",
    "\n",
    "# Univariate:  if column is >>    [Categorical]                    [Contineous]\n",
    "           Use chart & plots:      \n",
    "                     [Column]      \\Countplot or                     \\distplot\n",
    "                                    \\Horizontal bar chart\n",
    "\n",
    "Note: If categories are more then use horizonal bar chat <in case of categorical column>\n",
    "\n",
    "Distribution Plot: <Spread of Information>\n",
    "                   A curve drawn on plots is distribution plot\n",
    "___________________________________________________________________________________________________________________\n",
    "\n",
    "# Bivariate: if column is >>  [Categorical]                                 [Contineous]\n",
    "        Use chart & plots:  \n",
    "        Column 1: Categorical >\\Countplot with hue\\Cross tabulation          \\boxplot\n",
    "        Column 2: Contineous  >\\boxplot                                      \\Scatter\n",
    "___________________________________________________________________________________________________________________        \n",
    "        \n",
    "# Scatter plot : \n",
    "a. Linear       < e.g: Salary with experience >\n",
    "b. Non-Linear  < e.g: height with Salary >\n",
    "\n",
    " Scatter plot                   Scatter plot\n",
    "  Linear                         Non-Linear\n",
    "       |                         |\n",
    "       |     o                   |   o   o\n",
    "       |   o                     |  o o   o \n",
    "  Sal  | o                   Sal | o o o o\n",
    "       |________________Exp.     |______________ Height of a person \n",
    "       \n",
    "       \n",
    "      \n",
    "# Cross Tabulation:  < Convert data in tabular format then plot in cross tabulation chart >"
   ]
  },
  {
   "cell_type": "raw",
   "metadata": {},
   "source": [
    "### Scatter plot"
   ]
  },
  {
   "cell_type": "raw",
   "metadata": {},
   "source": [
    "Example: Loan Sanction based on | Sal,height,property etc..\n",
    "Y <-- X (Continuous - Non Linear ) \n",
    "Ex: Sal | Experience\n",
    "Y <-- X (Continuous - Linear )"
   ]
  },
  {
   "cell_type": "markdown",
   "metadata": {},
   "source": [
    "### Boxplot"
   ]
  },
  {
   "cell_type": "raw",
   "metadata": {},
   "source": [
    "Example: ETA | Speed , distance \n",
    "Y <-- X (Categorical - Linear )\n",
    "Ex: Tech | Grade\n",
    "Y <-- X (Categorical - Non Linear ) \n",
    "Ex: ETA | Speed , distance , Roadblock ( Good , bad , Very bad )\n",
    "Y <-- X (Categorical + Continuous - Linear )--> Multiple"
   ]
  },
  {
   "cell_type": "markdown",
   "metadata": {},
   "source": [
    "### Pairplot"
   ]
  },
  {
   "cell_type": "raw",
   "metadata": {},
   "source": [
    "# EDA :: Relationship Check :: Linear / Non-Linear\n",
    "sb.pairplot(df,diag_kind='kde',kind=\"reg\",corner= True,aspect=1.5)"
   ]
  },
  {
   "cell_type": "markdown",
   "metadata": {},
   "source": [
    "### Countplot / Count plot with hue"
   ]
  },
  {
   "cell_type": "markdown",
   "metadata": {},
   "source": [
    "### dist plot"
   ]
  },
  {
   "cell_type": "markdown",
   "metadata": {},
   "source": [
    "### Cross Tabulation"
   ]
  },
  {
   "cell_type": "markdown",
   "metadata": {},
   "source": [
    "### Bar plot / horizontal bar plot"
   ]
  },
  {
   "cell_type": "markdown",
   "metadata": {},
   "source": [
    "### Heat Map : Corr"
   ]
  },
  {
   "cell_type": "raw",
   "metadata": {},
   "source": [
    "# Correlation & Multi-Colinearity check\n",
    "sb.heatmap(df.corr(),annot= True,cmap='viridis')"
   ]
  },
  {
   "cell_type": "markdown",
   "metadata": {},
   "source": [
    "`EDA techniques ::`"
   ]
  },
  {
   "cell_type": "markdown",
   "metadata": {},
   "source": [
    ">> Five-number summary :\n",
    "\t\t1. Minimum\n",
    "\t\t2. Lower quartile\n",
    "\t\t3. Median\n",
    "\t\t4. Upper quartile\n",
    "\t\t5. Maximum\n",
    "- Location(median), Spread(lower and upper quartiles), Range(minimum and maximum)\n",
    "- It is possible to quickly compare datasets with five-number summary and it can be visualized with boxplot for visual understanding."
   ]
  },
  {
   "cell_type": "markdown",
   "metadata": {},
   "source": [
    ">> Histogram::\n",
    "- Histogram is one of the most popular statistical graph which represents sparsity of data. - You can visually understand which range has data most or least.\n",
    "- Histogram shows ranges of dataset and density in specific ranges. \n",
    "- Histogram is also one of the seven basic tools of quality, which is a set of graphing tools to be used in troubleshooting."
   ]
  },
  {
   "cell_type": "markdown",
   "metadata": {},
   "source": [
    ">> Scatter plot ::\n",
    "- Scatter plot is also one of the most popular diagram to provide intuitive understanding of dataset characters.\n",
    "- It has two axises(x, y) and each plots shows the relationship between them. \n",
    "For example, if you analyze a proportion between weights and heights, you can see that the higher the height, the more the weights in scatter plot. It mainly represents the relationship and proportion between two variables."
   ]
  },
  {
   "cell_type": "markdown",
   "metadata": {},
   "source": [
    ">> Standard Deviation ::\n",
    "- Standard deviation is also very important statistical data, which represents how spread out the numbers are in a dataset. Also, \n",
    "- Standard deviation is closely related to histogram. Histogram represents distribution of data with graph, standard deviation, on the other hand, does by number. Here is an example python code below.\n",
    "\n",
    "import numpy as np\n",
    "\n",
    "#### Create 10 random data between 0 - 100.\n",
    "d1 = np.random.randint(0, 100, 10)\n",
    "\n",
    "#### Create 10 random data between 0 - 1000.\n",
    "d2 = np.random.randint(0, 1000, 10)\n",
    "\n",
    "sd1 = np.std(d1)\n",
    "sd2 = np.std(d2)\n",
    "\n",
    "print(\"d1 => \", sd1)\n",
    "print(\"d2 => \", sd2)\n",
    "\n",
    "O/P :: \n",
    "d1 =>  24.21590386502226\n",
    "d2 =>  265.0744046489589\n",
    "\n",
    "- As you can see, d1 data shows smaller standard deviation than the one in d2 data. \n",
    "- The bigger standard deviation means the dataset spread out more than smaller one. \n",
    "- If you have a lot of datasets and want to compare sparsity among them, you should use standard deviation."
   ]
  },
  {
   "cell_type": "code",
   "execution_count": null,
   "metadata": {},
   "outputs": [],
   "source": []
  }
 ],
 "metadata": {
  "kernelspec": {
   "display_name": "Python 3",
   "language": "python",
   "name": "python3"
  },
  "language_info": {
   "codemirror_mode": {
    "name": "ipython",
    "version": 3
   },
   "file_extension": ".py",
   "mimetype": "text/x-python",
   "name": "python",
   "nbconvert_exporter": "python",
   "pygments_lexer": "ipython3",
   "version": "3.7.6"
  }
 },
 "nbformat": 4,
 "nbformat_minor": 4
}
