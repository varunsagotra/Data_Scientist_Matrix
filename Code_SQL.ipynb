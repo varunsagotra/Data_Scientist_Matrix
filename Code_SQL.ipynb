{
 "cells": [
  {
   "cell_type": "markdown",
   "metadata": {},
   "source": [
    "## Code_SQL"
   ]
  },
  {
   "cell_type": "markdown",
   "metadata": {},
   "source": [
    "### sqllite3"
   ]
  },
  {
   "cell_type": "code",
   "execution_count": null,
   "metadata": {},
   "outputs": [],
   "source": [
    "# Import Libraries ::\n",
    "import sqlite3"
   ]
  },
  {
   "cell_type": "code",
   "execution_count": null,
   "metadata": {},
   "outputs": [],
   "source": [
    "# Code-1 ::\n",
    "#Create a database \n",
    "conn = sqlite3.connect('abc.db')"
   ]
  },
  {
   "cell_type": "code",
   "execution_count": null,
   "metadata": {},
   "outputs": [],
   "source": [
    "#create table student\n",
    "conn.execute(\"create table student(id int, name text, course text)\")"
   ]
  },
  {
   "cell_type": "code",
   "execution_count": null,
   "metadata": {},
   "outputs": [],
   "source": [
    "conn.execute(\"insert into student values(101, 'varun', 'python')\")"
   ]
  },
  {
   "cell_type": "code",
   "execution_count": null,
   "metadata": {},
   "outputs": [],
   "source": [
    "dataset = conn.execute(\"select * from student\")"
   ]
  },
  {
   "cell_type": "code",
   "execution_count": null,
   "metadata": {},
   "outputs": [],
   "source": [
    "dataset.fetchall()"
   ]
  },
  {
   "cell_type": "code",
   "execution_count": null,
   "metadata": {},
   "outputs": [],
   "source": [
    "try:\n",
    "    conn.execute(\"select * from courses\")\n",
    "except Exception as e:\n",
    "    print(e)"
   ]
  },
  {
   "cell_type": "code",
   "execution_count": null,
   "metadata": {},
   "outputs": [],
   "source": []
  },
  {
   "cell_type": "markdown",
   "metadata": {},
   "source": [
    "### MySQL"
   ]
  },
  {
   "cell_type": "code",
   "execution_count": null,
   "metadata": {},
   "outputs": [],
   "source": [
    "#pip install mysql-connector\n",
    "# mysql -u root -p <password>"
   ]
  },
  {
   "cell_type": "code",
   "execution_count": null,
   "metadata": {},
   "outputs": [],
   "source": [
    "import mysql.connector"
   ]
  },
  {
   "cell_type": "code",
   "execution_count": null,
   "metadata": {},
   "outputs": [],
   "source": [
    "conn = mysql.connector.connect(host=\"127.0.0.1\", user=\"root\", password=\"root\", database=\"abc\")"
   ]
  },
  {
   "cell_type": "code",
   "execution_count": null,
   "metadata": {},
   "outputs": [],
   "source": [
    "# cursor object ?\n",
    "my_cursor = conn.cursor()"
   ]
  },
  {
   "cell_type": "code",
   "execution_count": null,
   "metadata": {},
   "outputs": [],
   "source": [
    "my_cursor.execute(\"select * from student\")"
   ]
  },
  {
   "cell_type": "code",
   "execution_count": null,
   "metadata": {},
   "outputs": [],
   "source": [
    "my_cursor.fetchall()"
   ]
  },
  {
   "cell_type": "code",
   "execution_count": null,
   "metadata": {},
   "outputs": [],
   "source": []
  },
  {
   "cell_type": "code",
   "execution_count": null,
   "metadata": {},
   "outputs": [],
   "source": [
    "## Generic code for MySQL DB - Dev, Testing QA, Prod"
   ]
  },
  {
   "cell_type": "markdown",
   "metadata": {},
   "source": [
    "Dev -> abc abc@123\n",
    "Testing -> qa qa@123\n",
    "Prod -> masteruser masteruser@123"
   ]
  },
  {
   "cell_type": "code",
   "execution_count": null,
   "metadata": {},
   "outputs": [],
   "source": [
    "import configparser\n",
    "import mysql.connector\n",
    "\n",
    "class DBConnections:\n",
    "    \"\"\"\n",
    "    Read a config.ini and set env accordingly.\n",
    "    \"\"\"\n",
    "    config_file = 'config.ini'\n",
    "    \n",
    "    def __init__(self, parser, env):\n",
    "        \"\"\"\n",
    "        get_config_file -> Object which contins required inforamtion username, password, datbaase,etc\n",
    "        env -> Prod, Test, Dev\n",
    "        \"\"\"\n",
    "        self.env = env\n",
    "        self.parser = parser\n",
    "        self.host = self.parser[self.env]['host']\n",
    "        self.user = self.parser[self.env]['user']\n",
    "        self.password = self.parser[self.env]['password']\n",
    "        self.database = self.parser[self.env]['database']\n",
    "    \n",
    "    def connection(self):\n",
    "        conn = None\n",
    "        try:\n",
    "            conn = mysql.connector.connect(host=self.host, user=self.user, password=self.password, database=self.database)\n",
    "        except Exception as e:\n",
    "            print(e)\n",
    "        return conn\n",
    "    \n",
    "    def showdata(self):\n",
    "        \"\"\"\n",
    "        Print all data from table\n",
    "        \"\"\"\n",
    "        conn = self.connection()\n",
    "        my_cursor = conn.cursor()\n",
    "        if not my_cursor == None:\n",
    "            my_cursor.execute(\"select * from student\")\n",
    "            print(my_cursor.fetchall())\n",
    "    \n",
    "def get_config():\n",
    "    \"\"\"\n",
    "    Read config file and parse into dictionary\n",
    "    \"\"\"\n",
    "    config = configparser.ConfigParser()\n",
    "    config.read(DBConnections.config_file)\n",
    "    return config\n",
    "\n",
    "\n",
    "if __name__ == \"__main__\":\n",
    "    db = DBConnections(get_config(), 'dev')\n",
    "    db.showdata()"
   ]
  },
  {
   "cell_type": "code",
   "execution_count": null,
   "metadata": {},
   "outputs": [],
   "source": []
  },
  {
   "cell_type": "code",
   "execution_count": null,
   "metadata": {},
   "outputs": [],
   "source": []
  }
 ],
 "metadata": {
  "kernelspec": {
   "display_name": "Python 3",
   "language": "python",
   "name": "python3"
  },
  "language_info": {
   "codemirror_mode": {
    "name": "ipython",
    "version": 3
   },
   "file_extension": ".py",
   "mimetype": "text/x-python",
   "name": "python",
   "nbconvert_exporter": "python",
   "pygments_lexer": "ipython3",
   "version": "3.7.6"
  }
 },
 "nbformat": 4,
 "nbformat_minor": 4
}
