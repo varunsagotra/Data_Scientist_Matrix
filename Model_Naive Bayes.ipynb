{
 "cells": [
  {
   "cell_type": "code",
   "execution_count": null,
   "metadata": {},
   "outputs": [],
   "source": [
    "Model_Naive Bayes"
   ]
  },
  {
   "cell_type": "raw",
   "metadata": {},
   "source": [
    "\"# NAIVE BAYES\n",
    "- USED IN BOTH MACHINE LEARNING & DEEP LEARNING\n",
    "EXAMPLE: TEXT CLASSIFICATION LIKE SPAM MAIL DETECTION SYSTEM\n",
    "\n",
    "CLASSIFICATION ALGORITHM [TWO TYPES:]\n",
    "- 1] BINARY\n",
    "- 2] MULTICLASS\n",
    "\n",
    "P(A/B) = P(B/A)*P(A)\n",
    "        ------------\n",
    "           P(B)\n",
    "        \n",
    "A & B ARE X & Y\n",
    "EXAMPLE :\n",
    "\n",
    "    A           B\n",
    "SYMPTOM(X)   CORONA(Y)\n",
    "------------------------\n",
    "SNEEZING        YES\n",
    "SNEEZING         NO\n",
    "FEVER           YES\n",
    "FEVER            NO\n",
    "COUGH           YES\n",
    "COUGH            NO\n",
    "...             ...\n",
    "\n",
    "P(B/A) = P(YES/FEVER)\n",
    "P(A) = YES(7)/TOTAL(11) = 0.63\n",
    "P(B) = FEVER(3)/TOTAL(11) = 0.27\n",
    "P(B/A) = FEVER(2)/TOTAL YES(7) = 0.28\n",
    "\n",
    "P(A/B) = P(B/A)*P(A)   = 0.28*0.63   = 0.653\n",
    "        ------------     ----------\n",
    "           P(B)              0.27\n",
    "P(A/B) =  0.653\n",
    "* PROBABILITY IS MORE CLOSER TO '1'\n",
    "\n",
    "# WHEN TO USE WHICH ALGORITHM --- CONDITION\n",
    "NOTE:\n",
    "    1. IF MAXIMUM PREDICTORS ARE CATEGORICAL IN NATURE THEN USE NAIVE BAYES ALGORITHM\n",
    "    2. IF MAXIMUM PREDICTORS ARE CONTINEOUS IN NATURE THEN USE LOGISTIC REGRESSION ALGORITHM\n",
    "3. IF LINEAR RELATIONSHIP THEN USE LOGISTIC ALGORITHM\n",
    "4. IF NON-LINEAR RELATIONSHIP THEN USE DECISION TREE ALGORITHM\n",
    "\n",
    "# Confusion Matrix\n",
    ">> FOR MULTICLASS USE ACCURACY SCORE\n",
    ">> FOR 2 CLASS USE CONFUSION MATRIX\n",
    "\n",
    "\n",
    "\""
   ]
  },
  {
   "cell_type": "code",
   "execution_count": null,
   "metadata": {},
   "outputs": [],
   "source": [
    "import pandas as pd\n",
    "A = pd.read_csv(\"/Credit.csv\")\n",
    "A.head()\n",
    "A.shape\n",
    "X = A.drop(labels=[\"Ethnicity\",\"Unnamed: 0\"],axis=1)\n",
    "X\n",
    "# Convert all categorical features in contineous\n",
    "from sklearn.preprocessing import LabelEncoder\n",
    "le = LabelEncoder()\n",
    "F = le.fit_transform\n",
    "\n",
    "X.apply(F)\n",
    "X = X.apply(F)\n",
    "X\n",
    "Y = A[[\"Ethnicity\"]]\n",
    "from sklearn.model_selection import train_test_split\n",
    "xtrain,xtest,ytrain,ytest=train_test_split(X,Y,test_size=0.2,random_state=30)\n",
    "from sklearn.naive_bayes import GaussianNB\n",
    "gnb = GaussianNB()\n",
    "model = gnb.fit(xtrain,ytrain)\n",
    "y_pred = model.predict(xtest)\n",
    "y_pred\n",
    "Result = pd.DataFrame(xtest)\n",
    "Result['Actual'] = ytest\n",
    "Result['Predicted'] = y_pred\n",
    "Result"
   ]
  },
  {
   "cell_type": "code",
   "execution_count": null,
   "metadata": {},
   "outputs": [],
   "source": [
    "from sklearn.metrics import accuracy_score\n",
    "accuracy_score(ytest,pred)"
   ]
  },
  {
   "cell_type": "code",
   "execution_count": null,
   "metadata": {},
   "outputs": [],
   "source": []
  }
 ],
 "metadata": {
  "kernelspec": {
   "display_name": "Python 3",
   "language": "python",
   "name": "python3"
  },
  "language_info": {
   "codemirror_mode": {
    "name": "ipython",
    "version": 3
   },
   "file_extension": ".py",
   "mimetype": "text/x-python",
   "name": "python",
   "nbconvert_exporter": "python",
   "pygments_lexer": "ipython3",
   "version": "3.7.6"
  }
 },
 "nbformat": 4,
 "nbformat_minor": 4
}
