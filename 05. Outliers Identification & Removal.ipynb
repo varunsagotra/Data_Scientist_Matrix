{
 "cells": [
  {
   "cell_type": "markdown",
   "metadata": {},
   "source": [
    "## Outliers Identification & Removal"
   ]
  },
  {
   "cell_type": "markdown",
   "metadata": {},
   "source": [
    "`Criteria to identify an outlier`\n",
    "* An Outlier is a data point in a dataset that is distant from all other observations. \n",
    "* A data point that lies outside the overall distribution of the dataset"
   ]
  },
  {
   "cell_type": "markdown",
   "metadata": {},
   "source": [
    "`REASONS FOR AN OUTLIER TO EXIST IN A DATASET`\n",
    "* Variability in a data\n",
    "* An experimental measurement error"
   ]
  },
  {
   "cell_type": "markdown",
   "metadata": {},
   "source": [
    "`Impacts of having outliers in a dataset`\n",
    "* It causes various problems during our statistical analysis\n",
    "* It may cause a significant impact on the mean and the standard deviation"
   ]
  },
  {
   "cell_type": "markdown",
   "metadata": {},
   "source": [
    "`Various ways of finding the outlier`\n",
    "* 1. Using Scatter plots <Can view Distribution of X & Y>\n",
    "* 2. Box plot  <Can view IQR 75% to 25% & Outlier detection greater than 75% & less than 25%>\n",
    "* 3. Using Z Score\n",
    "* 4. Using IQR interquartile range\""
   ]
  },
  {
   "cell_type": "markdown",
   "metadata": {},
   "source": [
    "`Detecting  outlier using Z score`"
   ]
  },
  {
   "cell_type": "raw",
   "metadata": {
    "scrolled": true
   },
   "source": [
    "# Detecting  outlier using Z score ::\n",
    "# Formula for Z score = (Observation - Mean) / Standard Deviation\n",
    "#Function ::\n",
    "Outlier = [ ]\n",
    "def detect_outliers(x):\n",
    "    threshold = 3\n",
    "    mean = np.mean(x)\n",
    "    std = np.std(x)\n",
    "    \n",
    "    for i in x:\n",
    "        z_score = (i - mean) / std\n",
    "        if np.abs(z_score) > threshold:\n",
    "            Outliers.appy(i)\n",
    "            return outliers\n",
    "\n",
    "# o/p :: outlier_pt = detect_outliers(df1)\n",
    "#       outliers_pt "
   ]
  },
  {
   "cell_type": "raw",
   "metadata": {},
   "source": [
    "outlier_pt = detect_outliers(df2.Col)\n",
    "print(outlier_pt)"
   ]
  },
  {
   "cell_type": "markdown",
   "metadata": {},
   "source": [
    "`Detecting  outlier using Interquartile Range ::`"
   ]
  },
  {
   "cell_type": "markdown",
   "metadata": {},
   "source": [
    "### Interquartile Range ::\n",
    "> 75% - 25% values in dataset\n",
    ">> Steps::\n",
    "- Arrange the data in increasing order\n",
    "- Calculate first(q1) and third quartile(q3)\n",
    "- Find interquartile range (q3-q1)\n",
    "- Find lower bound q1*1.5\n",
    "- Find upper bound q3*1.5\n",
    "\n",
    "### Anything that lies outside lower & upper bound is an outlier\n",
    "* 1. sorted(dataset)\n",
    "* 2. quantile1,quantile3 = np.percentile(dataset,[25,75])\n",
    "* 3. print(quantile1,quantile3)\n",
    "\n",
    "### Find IQR\n",
    "* 4. iqr_value = quantile3-quantile1\n",
    "* 5. print(iqr_value)\n",
    "\n",
    "### Find lower bound & upper bound values\n",
    "* 6. lower_bound_val = quantile1 - (1.5 * ikr_value)\n",
    "   upper_bound_val = quantile3 + (1.5 * iqr_value)\n",
    "* 7. print(lower_bound_val, upper_bound_val)"
   ]
  },
  {
   "cell_type": "markdown",
   "metadata": {},
   "source": [
    "### IRQ - Interquartile range  : View in Boxplot\n",
    "\n",
    "* In descriptive statistics, the interquartile range (IQR), also called the midspread or middle 50%, or technically H-spread, is a measure of statistical dispersion, being equal to the difference between 75th and 25th percentiles, or between upper and lower quartiles, IQR = Q3 − Q1.\n",
    "\n",
    "* The top and bottom points of the diamond represent the upper and lower 95% of the mean. The ends of the box represent the 25th and 75th quantiles, also expressed as the 1st and 3rd quartile, respectively. The difference between the 1st and 3rd quartiles is called the interquartile range."
   ]
  },
  {
   "cell_type": "raw",
   "metadata": {},
   "source": []
  }
 ],
 "metadata": {
  "kernelspec": {
   "display_name": "Python 3",
   "language": "python",
   "name": "python3"
  },
  "language_info": {
   "codemirror_mode": {
    "name": "ipython",
    "version": 3
   },
   "file_extension": ".py",
   "mimetype": "text/x-python",
   "name": "python",
   "nbconvert_exporter": "python",
   "pygments_lexer": "ipython3",
   "version": "3.7.6"
  }
 },
 "nbformat": 4,
 "nbformat_minor": 4
}
