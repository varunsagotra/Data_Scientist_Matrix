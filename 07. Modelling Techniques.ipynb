{
 "cells": [
  {
   "cell_type": "markdown",
   "metadata": {},
   "source": [
    "## Modelling Techniques ::"
   ]
  },
  {
   "cell_type": "markdown",
   "metadata": {},
   "source": [
    "1. Supervised ML :: Goal is Predictions (Y-is always a known variable)\n",
    "2. Unsupervised :: GOAL is not predictions but to understand data better\n",
    "\n",
    "> REGRESSION :: Technique of finding relationship between two or more variables\n",
    "$ Major Uses of Regression $::\n",
    "- Trends\n",
    "- Patterns,\n",
    "- Predictions,\n",
    "- Relationships\n",
    "- Associations\n",
    "- Determining the strength of predictors\n",
    "- Forecasting an effort\n",
    "- Trend forecasting\n",
    "\n",
    "\n",
    "A] Regression based supervised ML concerned with modelling the relationship between variables ::\n",
    "        - Linear Regression\n",
    "        - Logistic Regression      \n",
    "B] Instance-based learning model is a decision problem with instances ::\n",
    "        - K nearest neighbors        \n",
    "C] Algorithm based models ::\n",
    "        - Decision Trees\n",
    "        - Naive Bayes Classifier\n",
    "D] Regularization Algorithm :: An extension to regularization method that penalises models based on their complexity, favouring simpler models that are also better at generalising\n",
    "\n",
    ">>> Selection Criteria\n",
    "- Classification & Regression Capabilities\n",
    "- Data Quality\n",
    "- Computational Complexity\n",
    "- Comprehensible and Transparent"
   ]
  },
  {
   "cell_type": "markdown",
   "metadata": {},
   "source": [
    "#### PREDICTIVE MODELING ::\n",
    "1. SELECT APPROPRIATE ALGORITHM TO MODEL > TRAIN & BUILD THE MODEL > EVALUATE WITH TEST DATA\n",
    "- MODEL REQUIRE TUNING >> RE-CALIBRATE\n",
    "- MODEL PERFECTED >> DEPLOYED"
   ]
  },
  {
   "cell_type": "raw",
   "metadata": {},
   "source": []
  },
  {
   "cell_type": "markdown",
   "metadata": {},
   "source": [
    "#### Splitting data into training & evaluation sets"
   ]
  },
  {
   "cell_type": "markdown",
   "metadata": {},
   "source": [
    "> Steps:: \n",
    "- The final step is to split your data into two sets; one for training your algorithm, and another for evaluation purposes."
   ]
  },
  {
   "cell_type": "markdown",
   "metadata": {},
   "source": [
    "- Be sure to select non-overlapping subsets of your data for the training and evaluation sets in order to ensure proper testing"
   ]
  },
  {
   "cell_type": "markdown",
   "metadata": {},
   "source": [
    "- Invest in tools that provide versioning and cataloging of your original source as well as your prepared data for input to machine learning algorithms, and the lineage between them. \n",
    "\n",
    "** This way, you can trace the outcome of your predictions back to the input data to refine and optimize your models over time."
   ]
  },
  {
   "cell_type": "code",
   "execution_count": null,
   "metadata": {},
   "outputs": [],
   "source": []
  }
 ],
 "metadata": {
  "kernelspec": {
   "display_name": "Python 3",
   "language": "python",
   "name": "python3"
  },
  "language_info": {
   "codemirror_mode": {
    "name": "ipython",
    "version": 3
   },
   "file_extension": ".py",
   "mimetype": "text/x-python",
   "name": "python",
   "nbconvert_exporter": "python",
   "pygments_lexer": "ipython3",
   "version": "3.7.6"
  }
 },
 "nbformat": 4,
 "nbformat_minor": 4
}
