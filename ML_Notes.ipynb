{
 "cells": [
  {
   "cell_type": "markdown",
   "metadata": {},
   "source": [
    "### ML_Notes"
   ]
  },
  {
   "cell_type": "markdown",
   "metadata": {},
   "source": [
    "**What is ML?**\n",
    "`Machine learning is the best tool so far to analyze, understand and identify a pattern in the data` \n",
    "- One of the main ideas behind machine learning is that the computer can be trained to automate tasks that would be exhaustive or impossible for a human being. \n",
    "- The clear breach from the traditional analysis is that machine learning can take decisions with minimal human intervention.\n",
    "- Machine learning uses data to feed an algorithm that can understand the relationship between the input and the output. \n",
    "- When the machine finished learning, it can predict the value or the class of new data point."
   ]
  },
  {
   "cell_type": "markdown",
   "metadata": {},
   "source": [
    "> `Machine Learning Process`\n",
    "- Imagine you are meant to build a program that recognizes objects. To train the model, you will use a classifier. A classifier uses the features of an object to try identifying the class it belongs to.\n",
    "\n",
    "*In the example, the classifier will be trained to detect if the image is a:\n",
    "\n",
    "- Bicycle\n",
    "- Boat\n",
    "- Car\n",
    "- Plane\n",
    "\n",
    "*The four objects above are the class the classifier has to recognize. To construct a classifier, you need to have some data as input and assigns a label to it. The algorithm will take these data, find a pattern and then classify it in the corresponding class.\n",
    "\n",
    "- This task is called supervised learning. In supervised learning, the training data you feed to the algorithm includes a label.\n",
    "\n",
    "- Training an algorithm requires to follow a few standard steps:\n",
    "\n",
    "> Collect the data\n",
    "> Train the classifier\n",
    "> Make predictions\n",
    "- The first step is necessary, choosing the right data will make the algorithm success or a failure. The data you choose to train the model is called a feature. In the object example, the features are the pixels of the images.\n",
    "\n",
    "*Each image is a row in the data while each pixel is a column. If your image is a 28x28 size, the dataset contains 784 columns (28x28)\n",
    "Each picture has been transformed into a feature vector. The label tells the computer what object is in the image."
   ]
  },
  {
   "cell_type": "raw",
   "metadata": {},
   "source": [
    "Train Data > Feature Vector + Label > Algorithm\n",
    "                                         |\n",
    "                                         V\n",
    "Test Data > Feature Vector + Label  > Inference -----> Output"
   ]
  },
  {
   "cell_type": "markdown",
   "metadata": {},
   "source": [
    "- The objective is to use these training data to classify the type of object. The first step consists of creating the feature columns. Then, the second step involves choosing an algorithm to train the model. When the training is done, the model will predict what picture corresponds to what object.\n",
    "\n",
    "- After that, it is easy to use the model to predict new images. For each new image feeds into the model, the machine will predict the class it belongs to. For example, an entirely new image without a label is going through the model. For a human being, it is trivial to visualize the image as a car. The machine uses its previous knowledge to predict as well the image is a car."
   ]
  },
  {
   "cell_type": "markdown",
   "metadata": {},
   "source": [
    "> Automate Feature Extraction using DL\n",
    "- A dataset can contain a dozen to hundreds of features. The system will learn from the relevance of these features. However, not all features are meaningful for the algorithm. A crucial part of machine learning is to find a relevant set of features to make the system learns something.\n",
    "\n",
    "- One way to perform this part in machine learning is to use feature extraction. Feature extraction combines existing features to create a more relevant set of features. It can be done with PCA, T-SNE or any other dimensionality reduction algorithms.\n",
    "\n",
    "*For example, an image processing, the practitioner needs to extract the feature manually in the image like the eyes, the nose, lips and so on. Those extracted features are feed to the classification model."
   ]
  },
  {
   "cell_type": "markdown",
   "metadata": {},
   "source": [
    "> TRADITIONAL MACHINE LEARNING\n",
    "- INPUT >>> FEATURE EXTRACTION >>> CLASSIFICATION >>> OUTPUT"
   ]
  },
  {
   "cell_type": "markdown",
   "metadata": {},
   "source": [
    "> `Machine Learning`\n",
    "- Data Dependencies     >>> Excellent performances on a small/medium dataset\n",
    "- Hardware dependencies >>> Work on a low-end machine\n",
    "- Feature engineering   >>> Need to understand the features that represent the data\n",
    "- Execution time        >>> From few minutes to hours\n",
    "- Interpretability      >>> Some algorithms are easy to interpret (logistic, decision tree), some are almost impossible (SVM, XGBoost)\n",
    "                            \n",
    "** In mathematical logic, interpretability is a relation between formal theories that expresses the possibility of interpreting or translating one into the other.               "
   ]
  },
  {
   "cell_type": "markdown",
   "metadata": {},
   "source": [
    "`When to use ML ?`\n",
    "- Training dataset\t    Small\n",
    "- Choose features\t    Yes\n",
    "- Number of algorithms\tMany\n",
    "- Training time \t    Short"
   ]
  },
  {
   "cell_type": "markdown",
   "metadata": {},
   "source": [
    "`The idea behind machine learning is that` ::\n",
    "- The machine can learn without human intervention. \n",
    "- The machine needs to find a way to learn how to solve a task given the data."
   ]
  },
  {
   "cell_type": "markdown",
   "metadata": {},
   "source": [
    "`What is Supervised Machine Learning?`\n",
    "\n",
    "- In Supervised learning, you train the machine using data which is well \"labeled.\" It means some data is already tagged with the correct answer. It can be compared to learning which takes place in the presence of a supervisor or a teacher.\n",
    "\n",
    "* A supervised learning algorithm learns from labeled training data, helps you to predict outcomes for unforeseen data.\n",
    "\n",
    "*Successfully building, scaling, and deploying accurate supervised machine learning models takes time and technical expertise from a team of highly skilled data scientists. Moreover, Data scientist must rebuild models to make sure the insights given remains true until its data changes."
   ]
  },
  {
   "cell_type": "markdown",
   "metadata": {},
   "source": [
    "> `Why Supervised Learning?`\n",
    "- Supervised learning allows you to collect data or produce a data output from the previous experience.\n",
    "- Helps you to optimize performance criteria using experience\n",
    "- Supervised machine learning helps you to solve various types of real-world computation problems."
   ]
  },
  {
   "cell_type": "markdown",
   "metadata": {},
   "source": [
    "> `How Supervised Learning works?`\n",
    "\n",
    "*For example, you want to train a machine to help you predict how long it will take you to drive home from your workplace. Here, you start by creating a set of labeled data. This data includes\n",
    "\n",
    "* Weather conditions\n",
    "* Time of the day\n",
    "* Holidays\n",
    "______________________\n",
    "\n",
    "* All these details are your inputs. The output is the amount of time it took to drive back home on that specific day.\n",
    "\n",
    "* You instinctively know that if it's raining outside, then it will take you longer to drive home. But the machine needs data and statistics.\n",
    "\n",
    "* Let's see now how you can develop a supervised learning model of this example which help the user to determine the commute time. The first thing you requires to create is a training data set. This training set will contain the total commute time and corresponding factors like weather, time, etc. Based on this training set, your machine might see there's a direct relationship between the amount of rain and time you will take to get home.\n",
    "\n",
    "* So, it ascertains that the more it rains, the longer you will be driving to get back to your home. It might also see the connection between the time you leave work and the time you'll be on the road.\n",
    "\n",
    "* The closer you're to 6 p.m. the longer time it takes for you to get home. Your machine may find some of the relationships with your labeled data.\n",
    "\n",
    "* This is the start of your Data Model. It begins to impact how rain impacts the way people drive. It also starts to see that more people travel during a particular time of day."
   ]
  },
  {
   "cell_type": "markdown",
   "metadata": {},
   "source": [
    "> Learning Phase ::\n",
    "- Training Data >>> Features Vector >>> Algorithm >>> Model        "
   ]
  },
  {
   "cell_type": "markdown",
   "metadata": {},
   "source": [
    "> `Types of Supervised Machine Learning Algorithms`\n",
    "- Regression:\n",
    "- Classification :\n",
    "\n",
    "`Regression technique` predicts a single output value using training data.\n",
    "Example: \n",
    "You can use regression to predict the house price from training data. The input variables will be locality, size of a house, etc.\n",
    "\n",
    "`Classification:`\n",
    "Classification means to group the output inside a class. \n",
    "If the algorithm tries to label input into two distinct classes, it is called binary classification. \n",
    "Selecting between more than two classes is referred to as multiclass classification.\n",
    "\n",
    "*Example: Determining whether or not someone will be a defaulter of the loan.\n",
    "\n",
    "> `Strengths`: \n",
    "- Outputs always have a probabilistic interpretation, and the algorithm can be regularized to avoid overfitting.\n",
    "\n",
    "> `Weaknesses`: \n",
    "- Logistic regression may underperform when there are multiple or non-linear decision boundaries. This method is not flexible, so it does not capture more complex relationships."
   ]
  },
  {
   "cell_type": "markdown",
   "metadata": {},
   "source": [
    "> `Logistic Regression`:\n",
    "- Logistic regression method used to estimate discrete values based on given a set of independent variables. \n",
    "- It helps you to predicts the probability of occurrence of an event by fitting data to a logit function. Therefore, it is also known as logistic regression. As it predicts the probability, its output value lies between 0 and 1."
   ]
  },
  {
   "cell_type": "markdown",
   "metadata": {},
   "source": [
    "> `Here are a few types of Regression Algorithms Classification:`\n",
    "- Classification means to group the output inside a class. \n",
    "- If the algorithm tries to label input into two distinct classes, it is called [binary\n",
    "  classification] \n",
    "- Selecting between more than two classes is referred to as [multiclass classification]\n",
    "\n",
    "*Example: Determining whether or not someone will be a defaulter of the loan.\n",
    "\n",
    "`Strengths` : Classification tree perform very well in practice\n",
    "\n",
    "`Weaknesses`: Unconstrained, individual trees are prone to overfitting.\n",
    "\n",
    "Here are a few types of Classification Algorithms\n"
   ]
  },
  {
   "cell_type": "markdown",
   "metadata": {},
   "source": [
    "> `Naïve Bayes Classifiers`\n",
    "- Naïve Bayesian model (NBN) is easy to build and very useful for large datasets. This method is composed of direct acyclic graphs with one parent and several children. \n",
    "- It assumes independence among child nodes separated from their parent."
   ]
  },
  {
   "cell_type": "markdown",
   "metadata": {},
   "source": [
    "> `Decision Trees`\n",
    "- Decisions trees classify instance by sorting them based on the feature value. In this method, each mode is the feature of an instance. It should be classified, and every branch represents a value which the node can assume. \n",
    "- It is a widely used technique for classification. \n",
    "- In this method, classification is a tree which is known as a decision tree.\n",
    "\n",
    "It helps you to estimate real values (cost of purchasing a car, number of calls, total monthly sales, etc.)."
   ]
  },
  {
   "cell_type": "markdown",
   "metadata": {},
   "source": [
    "> `Support Vector Machine`\n",
    "- This method is based on results from statistical learning\n",
    "- SVM machines are also closely connected to kernel functions which is a central concept for most of the learning tasks. The kernel framework and SVM are used in a variety of fields.\n",
    "- It includes multimedia information retrieval, bioinformatics, and pattern recognition."
   ]
  },
  {
   "cell_type": "markdown",
   "metadata": {},
   "source": [
    "> `Supervised Machine learning techniques`\n",
    "- Input Data\t            **Algorithms are trained using labeled data.\t\n",
    "- Computational Complexity\t**Supervised learning is a simpler method.\t\n",
    "- Accuracy                  **Highly accurate and trustworthy method.\t"
   ]
  },
  {
   "cell_type": "markdown",
   "metadata": {},
   "source": [
    "> `Unsupervised Machine learning techniques` :\n",
    "- Input Data\t            **Algorithms are used against data which is not labelled\n",
    "- Computational Complexity\t**Unsupervised learning is computationally complex\n",
    "- Accuracy\t                **Less accurate and trustworthy method."
   ]
  },
  {
   "cell_type": "markdown",
   "metadata": {},
   "source": [
    "> `Types of Unsupervised Machine Learning Techniques`\n",
    "- Unsupervised learning problems further grouped into clustering and association problems.\n",
    "\n",
    "> `Clustering`:\n",
    "- Clustering is an important concept when it comes to unsupervised learning. It mainly deals with finding a structure or pattern in a collection of uncategorized data. Clustering algorithms will process your data and find natural clusters(groups) if they exist in the data. You can also modify how many clusters your algorithms should identify. It allows you to adjust the granularity of these groups.\n",
    "\n",
    "> `Association`:\n",
    "- Association rules allow you to establish associations amongst data objects inside large databases. This unsupervised technique is about discovering exciting relationships between variables in large databases. For example, people that buy a new home most likely to buy new furniture.\n",
    "\n",
    "*Other Examples:\n",
    "\n",
    "*A subgroup of cancer patients grouped by their gene expression measurements\n",
    "Groups of shopper based on their browsing and purchasing histories\n",
    "Movie group by the rating given by movies viewers"
   ]
  },
  {
   "cell_type": "markdown",
   "metadata": {},
   "source": [
    "> Challenges in Supervised machine learning\n",
    "`Here, are challenges faced in supervised machine learning:`\n",
    "\n",
    "* Irrelevant input feature present training data could give inaccurate results\n",
    "* Data preparation and pre-processing is always a challenge.\n",
    "* Accuracy suffers when impossible, unlikely, and incomplete values have been inputted as training data\n",
    "* If the concerned expert is not available, then the other approach is \"brute-force.\" It means you need to think that the right features (input variables) to train the machine on. It could be inaccurate."
   ]
  },
  {
   "cell_type": "markdown",
   "metadata": {},
   "source": [
    "> `Advantages of Supervised Learning`:\n",
    "- Supervised learning allows you to collect data or produce a data output from the previous experience\n",
    "- Helps you to optimize performance criteria using experience\n",
    "- Supervised machine learning helps you to solve various types of real-world computation problems.\n",
    "\n",
    "> `Disadvantages of Supervised Learning`\n",
    "- Decision boundary might be overtrained if your training set which doesn't have examples that you want to have in a class\n",
    "- You need to select lots of good examples from each class while you are training the classifier.\n",
    "- Classifying big data can be a real challenge.\n",
    "- Training for supervised learning needs a lot of computation time."
   ]
  },
  {
   "cell_type": "markdown",
   "metadata": {},
   "source": [
    "> `Best practices for Supervised Learning`\n",
    "- Before doing anything else, you need to decide what kind of data is to be used as a training set\n",
    "- You need to decide the structure of the learned function and learning algorithm.\n",
    "- Gathere corresponding outputs either from human experts or from measurements"
   ]
  },
  {
   "cell_type": "markdown",
   "metadata": {},
   "source": [
    "### Unsupervised Learning"
   ]
  },
  {
   "cell_type": "markdown",
   "metadata": {},
   "source": [
    "> `What is Unsupervised Learning?`\n",
    "- Unsupervised learning is a machine learning technique, where you do not need to supervise the model. Instead, you need to allow the model to work on its own to discover information. It mainly deals with the unlabelled data.\n",
    "\n",
    "- Unsupervised learning algorithms allows you to perform more complex processing tasks compared to supervised learning. Although, unsupervised learning can be more unpredictable compared with other natural learning methods."
   ]
  },
  {
   "cell_type": "markdown",
   "metadata": {},
   "source": [
    "> `Why Unsupervised Learning?`\n",
    "\n",
    "Here, are prime reasons for using Unsupervised Learning:\n",
    "\n",
    "- Unsupervised machine learning finds all kind of unknown patterns in data.\n",
    "- Unsupervised methods help you to find features which can be useful for categorization.\n",
    "- It is taken place in real time, so all the input data to be analyzed and labeled in the presence of learners.\n",
    "- It is easier to get unlabeled data from a computer than labeled data, which needs manual intervention."
   ]
  },
  {
   "cell_type": "markdown",
   "metadata": {},
   "source": [
    "> `Types of Unsupervised Learning`\n",
    "\n",
    "Unsupervised learning problems further grouped into clustering and association problems.\n",
    "\n",
    "* `Clustering`\n",
    "- Clustering is an important concept when it comes to unsupervised learning. It mainly deals with finding a structure or pattern in a collection of uncategorized data. Clustering algorithms will process your data and find natural clusters(groups) if they exist in the data. You can also modify how many clusters your algorithms should identify. It allows you to adjust the granularity of these groups.\n",
    "\n",
    "> There are different types of clustering you can utilize:\n",
    "\n",
    "`Exclusive (partitioning)`\n",
    "\n",
    "In this clustering method, Data are grouped in such a way that one data can belong to one cluster only.\n",
    "\n",
    "Example: K-means\n",
    "\n",
    "`Agglomerative`\n",
    "\n",
    "In this clustering technique, every data is a cluster. The iterative unions between the two nearest clusters reduce the number of clusters.\n",
    "\n",
    "Example: Hierarchical clustering\n",
    "\n",
    "`Overlapping`\n",
    "\n",
    "In this technique, fuzzy sets is used to cluster data. Each point may belong to two or more clusters with separate degrees of membership.\n",
    "\n",
    "Here, data will be associated with an appropriate membership value. Example: Fuzzy C-Means\n",
    "\n",
    "`Probabilistic`\n",
    "\n",
    "This technique uses probability distribution to create the clusters\n",
    "\n",
    "Example: Following keywords\n",
    "\n",
    "\"man's shoe.\"\n",
    "\"women's shoe.\"\n",
    "\"women's glove.\"\n",
    "\"man's glove.\"\n",
    "can be clustered into two categories \"shoe\" and \"glove\" or \"man\" and \"women.\"\n",
    "\n"
   ]
  },
  {
   "cell_type": "markdown",
   "metadata": {},
   "source": [
    "> `Clustering Types`\n",
    "1. Hierarchical clustering\n",
    "2. K-means clustering\n",
    "3. K-NN (k nearest neighbors)\n",
    "4. Principal Component Analysis\n",
    "5. Singular Value Decomposition\n",
    "6. Independent Component Analysis"
   ]
  },
  {
   "cell_type": "markdown",
   "metadata": {},
   "source": [
    "> `Hierarchical Clustering:`\n",
    "- Hierarchical clustering is an algorithm which builds a hierarchy of clusters. It begins with all the data which is assigned to a cluster of their own. Here, two close cluster are going to be in the same cluster. This algorithm ends when there is only one cluster left."
   ]
  },
  {
   "cell_type": "markdown",
   "metadata": {},
   "source": [
    "> `K-means Clustering`\n",
    "- K means it is an iterative clustering algorithm which helps you to find the highest value for every iteration. Initially, the desired number of clusters are selected. In this clustering method, you need to cluster the data points into k groups. A larger k means smaller groups with more granularity in the same way. A lower k means larger groups with less granularity.\n",
    "\n",
    "The output of the algorithm is a group of \"labels.\" It assigns data point to one of the k groups. In k-means clustering, each group is defined by creating a centroid for each group. The centroids are like the heart of the cluster, which captures the points closest to them and adds them to the cluster."
   ]
  },
  {
   "cell_type": "markdown",
   "metadata": {},
   "source": [
    "> `K-mean clustering further defines two subgroups:`\n",
    "\n",
    "1. Agglomerative clustering\n",
    "2. Dendrogram"
   ]
  },
  {
   "cell_type": "markdown",
   "metadata": {},
   "source": [
    "> `Agglomerative clustering:`\n",
    "\n",
    "- This type of K-means clustering starts with a fixed number of clusters. It allocates all data into the exact number of clusters. This clustering method does not require the number of clusters K as an input. Agglomeration process starts by forming each data as a single cluster.\n",
    "\n",
    "- This method uses some distance measure, reduces the number of clusters (one in each iteration) by merging process. Lastly, we have one big cluster that contains all the objects."
   ]
  },
  {
   "cell_type": "markdown",
   "metadata": {},
   "source": [
    "> `Dendrogram:`\n",
    "\n",
    "- In the Dendrogram clustering method, each level will represent a possible cluster. The height of dendrogram shows the level of similarity between two join clusters. The closer to the bottom of the process they are more similar cluster which is finding of the group from dendrogram which is not natural and mostly subjective."
   ]
  },
  {
   "cell_type": "markdown",
   "metadata": {},
   "source": [
    "> `K- Nearest neighbors`\n",
    "\n",
    "- K- nearest neighbour is the simplest of all machine learning classifiers. It differs from other machine learning techniques, in that it doesn't produce a model. It is a simple algorithm which stores all available cases and classifies new instances based on a similarity measure.\n",
    "\n",
    "- It works very well when there is a distance between examples. The learning speed is slow when the training set is large, and the distance calculation is nontrivial."
   ]
  },
  {
   "cell_type": "markdown",
   "metadata": {},
   "source": [
    "> `Principal Components Analysis:`\n",
    "\n",
    "- In case you want a higher-dimensional space. You need to select a basis for that space and only the 200 most important scores of that basis. This base is known as a principal component. The subset you select constitute is a new space which is small in size compared to original space. It maintains as much of the complexity of data as possible."
   ]
  },
  {
   "cell_type": "markdown",
   "metadata": {},
   "source": [
    "> `Association`\n",
    "- Association rules allow you to establish associations amongst data objects inside large databases. This unsupervised technique is about discovering interesting relationships between variables in large databases. For example, people that buy a new home most likely to buy new furniture.\n",
    "\n",
    "*Other Examples:\n",
    "\n",
    "A subgroup of cancer patients grouped by their gene expression measurements\n",
    "Groups of shopper based on their browsing and purchasing histories\n",
    "Movie group by the rating given by movies viewers"
   ]
  },
  {
   "cell_type": "markdown",
   "metadata": {},
   "source": [
    "> `Applications of unsupervised machine learning`\n",
    "\n",
    "Some applications of unsupervised machine learning techniques are:\n",
    "\n",
    "- Clustering automatically split the dataset into groups base on their similarities\n",
    "- Anomaly detection can discover unusual data points in your dataset. It is useful for finding fraudulent transactions\n",
    "- Association mining identifies sets of items which often occur together in your dataset\n",
    "- Latent variable models are widely used for data preprocessing. Like reducing the number of features in a dataset or decomposing the dataset into multiple components\n"
   ]
  },
  {
   "cell_type": "markdown",
   "metadata": {},
   "source": [
    "> `Disadvantages of Unsupervised Learning`\n",
    "- You cannot get precise information regarding data sorting, and the output as data used in unsupervised learning is labeled and not known\n",
    "- Less accuracy of the results is because the input data is not known and not labeled by people in advance. This means that the machine requires to do this itself.\n",
    "- The spectral classes do not always correspond to informational classes.\n",
    "- The user needs to spend time interpreting and label the classes which follow that classification.\n",
    "- Spectral properties of classes can also change over time so you can't have the same class information while moving from one image to another."
   ]
  },
  {
   "cell_type": "raw",
   "metadata": {},
   "source": []
  },
  {
   "cell_type": "markdown",
   "metadata": {},
   "source": [
    "`Supervised vs. Unsupervised Learning`"
   ]
  },
  {
   "cell_type": "markdown",
   "metadata": {},
   "source": [
    "> Process\t\n",
    "* In a supervised learning model,input and output variables will be given.\n",
    "* In unsupervised learning model,only input data will be given\n",
    "\n",
    "> Input Data\t\n",
    "* Algorithms are trained using labeled data.\n",
    "* Algorithms are used against data which is not labeled\n",
    "\n",
    "> Algorithms Used\t\n",
    "* Support vector machine, Neural network, Linear and logistics regression, random forest, and Classification trees.\t\n",
    "* Unsupervised algorithms can be divided into different categories: like Cluster algorithms, K-means, Hierarchical clustering, etc.\n",
    "\n",
    "> Computational Complexity\t\n",
    "* Supervised learning is a simpler method.\t\n",
    "* Unsupervised learning is computationally complex\n",
    "\n",
    "> Use of Data\t\n",
    "* Supervised learning model uses training data to learn a link between the input and the outputs.\n",
    "* Unsupervised learning does not use output data.\n",
    "\n",
    "> Accuracy of Results\t\n",
    "* Highly accurate and trustworthy method.\n",
    "* Less accurate but trustworthy method.\n",
    "\n",
    "> Real Time Learning\t\n",
    "* Learning method takes place offline.\t\n",
    "* Learning method takes place in real time.\n",
    "\n",
    "> Number of Classes\t\n",
    "* Number of classes is known.\n",
    "* Number of classes is not known.\n",
    "\n",
    "> Main Drawback\t\n",
    "* Classifying big data can be a real challenge in Supervised Learning.\t\n",
    "* You cannot get precise information regarding data sorting, and the output as data used in unsupervised learning is labeled and not known."
   ]
  },
  {
   "cell_type": "markdown",
   "metadata": {},
   "source": [
    "`Supervised machine learning technique :`\n",
    "* In a supervised learning model, input and output variables will be given.\n",
    "* Algorithms are trained using labeled data.\n",
    "* Support vector machine, Neural network, Linear and logistics regression, random forest, and Classification trees.\n",
    "* Supervised learning is a simpler method.\n",
    "* Supervised learning model uses training data to learn a link between the input and the outputs.\n",
    "* Highly accurate and trustworthy method.\n",
    "* Learning method takes place offline.\n",
    "* Number of classes is known.\n",
    "* Classifying big data can be a real challenge in Supervised Learning."
   ]
  },
  {
   "cell_type": "markdown",
   "metadata": {},
   "source": [
    "`Unsupervised machine learning technique :`\n",
    "* In unsupervised learning model, only input data will be given\n",
    "* Algorithms are used against data which is not labeled\n",
    "* Unsupervised algorithms can be divided into different categories: like Cluster algorithms, K-means, Hierarchical clustering, etc.\n",
    "* Unsupervised learning is computationally complex\n",
    "* Unsupervised learning does not use output data.\n",
    "* Less accurate and trustworthy method.\n",
    "* Learning method takes place in real time.\n",
    "* Number of classes is not known.\n",
    "* You cannot get precise information regarding data sorting, and the output as data used in unsupervised learning is labeled and not known."
   ]
  },
  {
   "cell_type": "raw",
   "metadata": {},
   "source": []
  }
 ],
 "metadata": {
  "kernelspec": {
   "display_name": "Python 3",
   "language": "python",
   "name": "python3"
  },
  "language_info": {
   "codemirror_mode": {
    "name": "ipython",
    "version": 3
   },
   "file_extension": ".py",
   "mimetype": "text/x-python",
   "name": "python",
   "nbconvert_exporter": "python",
   "pygments_lexer": "ipython3",
   "version": "3.7.6"
  }
 },
 "nbformat": 4,
 "nbformat_minor": 4
}
