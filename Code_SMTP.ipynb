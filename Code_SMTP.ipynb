{
 "cells": [
  {
   "cell_type": "markdown",
   "metadata": {},
   "source": [
    "## SMTP"
   ]
  },
  {
   "cell_type": "code",
   "execution_count": null,
   "metadata": {},
   "outputs": [],
   "source": [
    "import smtplib\n",
    "from email.message import EmailMessage"
   ]
  },
  {
   "cell_type": "code",
   "execution_count": null,
   "metadata": {},
   "outputs": [],
   "source": [
    "smtp = smtplib.SMTP(\"host\", <port>)\n",
    "smtp = smtplib.SMTP(\"smtp.gmail.com\", 587)\n",
    "\n",
    "smtp.starttls()\n",
    "\n",
    "#smtp.login('<email id>','<password>')\n",
    "smtp.login('abc@gmail.com','abc@gmail.com')\n",
    "\n",
    "message = EmailMessage()\n",
    "\n",
    "message['Subject'] = 'Testing email from python program'\n",
    "message['From'] = 'abc@gmail.com'\n",
    "message['To'] = 'abc@gmail.com'\n",
    "\n",
    "message.set_content(\"\"\"\n",
    "<html>\n",
    "<body>\n",
    "    <h1> Testing email </h1>\n",
    "</body>\n",
    "</html>\n",
    "\"\"\", subtype=\"html\")\n",
    "\n",
    "smtp.send_message(message)\n",
    "\n",
    "smtp.quit()"
   ]
  },
  {
   "cell_type": "markdown",
   "metadata": {},
   "source": [
    "python installed on your local system => 3.6 and above"
   ]
  }
 ],
 "metadata": {
  "kernelspec": {
   "display_name": "Python 3",
   "language": "python",
   "name": "python3"
  },
  "language_info": {
   "codemirror_mode": {
    "name": "ipython",
    "version": 3
   },
   "file_extension": ".py",
   "mimetype": "text/x-python",
   "name": "python",
   "nbconvert_exporter": "python",
   "pygments_lexer": "ipython3",
   "version": "3.7.6"
  }
 },
 "nbformat": 4,
 "nbformat_minor": 4
}
