{
 "cells": [
  {
   "cell_type": "markdown",
   "metadata": {},
   "source": [
    "## Missing Data Treatment"
   ]
  },
  {
   "cell_type": "raw",
   "metadata": {},
   "source": [
    "# Missing value detection ::\n",
    "data.isnull()\n",
    "sb.heatmap(data.isnull(),yticklabel = False, cbar =False, cmap=‘viridis’"
   ]
  },
  {
   "cell_type": "markdown",
   "metadata": {},
   "source": [
    "> Missing Data Treatment Techniques ::\n",
    "1. Filter / Remove Records\n",
    "2. Replace\n",
    "3. Predict :: Using supervised ML algorithm\n",
    "4. Apply unsupervised ML algorithm\n",
    "5. SME"
   ]
  },
  {
   "cell_type": "markdown",
   "metadata": {},
   "source": [
    "#### Filter/Remove Records -> WORST technique\n",
    "> Less Data >> Less Experience >> Less Reliability >> Less Predicting Power \n",
    "- Use Incase of very very large dataset\n",
    "\n",
    "**Important info. might get removed, will have impact on prediction accuracy"
   ]
  },
  {
   "cell_type": "markdown",
   "metadata": {},
   "source": [
    "`Replace - GOOD technique  (with most frequent values)`\n",
    "* CONTINEOUS >> MEAN    [ ERROR PRONE ]\n",
    "* CATEGORICAL >> MAJORITY VOTE\n",
    "\n",
    "*Leads to imbalance dataset"
   ]
  },
  {
   "cell_type": "markdown",
   "metadata": {},
   "source": [
    "`Predict - BETTER technique (Apply classifier algorithm to predict)`\n",
    "* NOT ALWAYS WE GET GOOD PREDICTORS FOR EVERY COLUMN\n",
    "* USE KNN - NEAREST NEIGHBOUR TO FIND MISSING VALUES\n",
    "_____________________________________________________________________\n",
    "* 1. By using other features excluding missing feature as predictors\n",
    "* 2. Using Missing feature as target feature"
   ]
  },
  {
   "cell_type": "markdown",
   "metadata": {},
   "source": [
    "`!pip install missingno --user\n",
    "knn_impute(target=df['Col1'], attributes=df.drop(['Col2']),\n",
    "aggregation_method=\"mean\", k_neighbors=10, numeric_distance='euclidean',\n",
    "categorical_distance='hamming',missing_neighbors_threshold=0.8)`"
   ]
  },
  {
   "cell_type": "markdown",
   "metadata": {},
   "source": [
    "`Apply unsupervised ML algorithm`\n",
    "* Clustering technique :: K-means clustering / Hierarchical clustering\n",
    "\n",
    "*By grouping other features excluding  missing feature & o/p feature"
   ]
  },
  {
   "cell_type": "markdown",
   "metadata": {},
   "source": [
    "* !pip install fancyimpute --user"
   ]
  },
  {
   "cell_type": "markdown",
   "metadata": {},
   "source": [
    "**SME - Subject Matter Expert (BEST)**\n",
    "* Not easily available | Not necessarily has time"
   ]
  },
  {
   "cell_type": "code",
   "execution_count": null,
   "metadata": {},
   "outputs": [],
   "source": []
  }
 ],
 "metadata": {
  "kernelspec": {
   "display_name": "Python 3",
   "language": "python",
   "name": "python3"
  },
  "language_info": {
   "codemirror_mode": {
    "name": "ipython",
    "version": 3
   },
   "file_extension": ".py",
   "mimetype": "text/x-python",
   "name": "python",
   "nbconvert_exporter": "python",
   "pygments_lexer": "ipython3",
   "version": "3.7.6"
  }
 },
 "nbformat": 4,
 "nbformat_minor": 4
}
